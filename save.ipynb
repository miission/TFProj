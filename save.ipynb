{
 "cells": [
  {
   "cell_type": "code",
   "execution_count": 1,
   "metadata": {
    "collapsed": true
   },
   "outputs": [],
   "source": [
    "import tensorflow as tf"
   ]
  },
  {
   "cell_type": "code",
   "execution_count": 8,
   "metadata": {
    "collapsed": true
   },
   "outputs": [],
   "source": [
    "ii=2"
   ]
  },
  {
   "cell_type": "code",
   "execution_count": 13,
   "metadata": {
    "collapsed": true
   },
   "outputs": [],
   "source": [
    "tf.Variable?"
   ]
  },
  {
   "cell_type": "code",
   "execution_count": 2,
   "metadata": {
    "collapsed": false
   },
   "outputs": [
    {
     "ename": "NameError",
     "evalue": "name 'ii' is not defined",
     "output_type": "error",
     "traceback": [
      "\u001b[0;31m---------------------------------------------------------------------------\u001b[0m",
      "\u001b[0;31mNameError\u001b[0m                                 Traceback (most recent call last)",
      "\u001b[0;32m<ipython-input-2-08ed5964ff2e>\u001b[0m in \u001b[0;36m<module>\u001b[0;34m()\u001b[0m\n\u001b[1;32m      1\u001b[0m \u001b[0;31m#build graph\u001b[0m\u001b[0;34m\u001b[0m\u001b[0;34m\u001b[0m\u001b[0m\n\u001b[0;32m----> 2\u001b[0;31m \u001b[0muserEmbedding\u001b[0m \u001b[0;34m=\u001b[0m \u001b[0mtf\u001b[0m\u001b[0;34m.\u001b[0m\u001b[0mVariable\u001b[0m\u001b[0;34m(\u001b[0m\u001b[0;34m[\u001b[0m\u001b[0mii\u001b[0m\u001b[0;34m]\u001b[0m\u001b[0;34m,\u001b[0m\u001b[0mname\u001b[0m\u001b[0;34m=\u001b[0m\u001b[0;34m\"userEmbedding\"\u001b[0m\u001b[0;34m)\u001b[0m\u001b[0;34m\u001b[0m\u001b[0m\n\u001b[0m\u001b[1;32m      3\u001b[0m \u001b[0mothers\u001b[0m \u001b[0;34m=\u001b[0m \u001b[0mtf\u001b[0m\u001b[0;34m.\u001b[0m\u001b[0mVariable\u001b[0m\u001b[0;34m(\u001b[0m\u001b[0;34m[\u001b[0m\u001b[0;36m1\u001b[0m\u001b[0;34m,\u001b[0m\u001b[0;36m2\u001b[0m\u001b[0;34m]\u001b[0m\u001b[0;34m,\u001b[0m\u001b[0mname\u001b[0m\u001b[0;34m=\u001b[0m\u001b[0;34m\"others\"\u001b[0m\u001b[0;34m)\u001b[0m\u001b[0;34m\u001b[0m\u001b[0m\n",
      "\u001b[0;31mNameError\u001b[0m: name 'ii' is not defined"
     ]
    }
   ],
   "source": [
    "#build graph\n",
    "userEmbedding = tf.Variable([ii],name=\"userEmbedding\")\n",
    "others = tf.Variable([1,2],name=\"others\")\n"
   ]
  },
  {
   "cell_type": "code",
   "execution_count": 5,
   "metadata": {
    "collapsed": false
   },
   "outputs": [],
   "source": [
    "#change graph\n",
    "#others = tf.assign(others,tf.concat([others,tf.Variable([-1,-2])],0),validate_shape=False)"
   ]
  },
  {
   "cell_type": "code",
   "execution_count": 6,
   "metadata": {
    "collapsed": false
   },
   "outputs": [],
   "source": [
    "#set saver\n",
    "globalSaver = tf.train.Saver()\n",
    "embedSaver = tf.train.Saver({\"userEmbedding\":userEmbedding})"
   ]
  },
  {
   "cell_type": "code",
   "execution_count": 12,
   "metadata": {
    "collapsed": false
   },
   "outputs": [
    {
     "name": "stdout",
     "output_type": "stream",
     "text": [
      "[u'userEmbedding:0', u'others:0', u'userEmbedding_1:0', u'others_1:0']\n"
     ]
    }
   ],
   "source": [
    "print([i.name for i in tf.get_collection(tf.GraphKeys.GLOBAL_VARIABLES)])"
   ]
  },
  {
   "cell_type": "code",
   "execution_count": 7,
   "metadata": {
    "collapsed": false
   },
   "outputs": [
    {
     "name": "stdout",
     "output_type": "stream",
     "text": [
      "[-1] [1 2]\n"
     ]
    }
   ],
   "source": [
    "with tf.Session() as sess:\n",
    "    sess.run(tf.global_variables_initializer())\n",
    "    globalSaver.save(sess,\"test/model.ckpt\")\n",
    "    embedSaver.save(sess,\"test/embed%d.ckpt\"%ii)         \n",
    "    print userEmbedding.eval(),others.eval()\n",
    "        "
   ]
  },
  {
   "cell_type": "code",
   "execution_count": 5,
   "metadata": {
    "collapsed": false
   },
   "outputs": [
    {
     "name": "stdout",
     "output_type": "stream",
     "text": [
      "[u'userEmbedding:0', u'others:0', u'userEmbedding_1:0', u'others_1:0', u'userEmbedding_2:0', u'others_2:0', u'userEmbedding_3:0', u'others_3:0', u'userEmbedding_4:0', u'others_4:0', u'userEmbedding_5:0', u'others_5:0', u'userEmbedding_6:0', u'others_6:0', u'userEmbedding_7:0', u'others_7:0', u'userEmbedding_8:0', u'others_8:0', u'userEmbedding_9:0', u'others_9:0', u'userEmbedding_10:0', u'others_10:0']\n",
      "[0] [1 2]\n",
      "[u'userEmbedding:0', u'others:0', u'userEmbedding_1:0', u'others_1:0', u'userEmbedding_2:0', u'others_2:0', u'userEmbedding_3:0', u'others_3:0', u'userEmbedding_4:0', u'others_4:0', u'userEmbedding_5:0', u'others_5:0', u'userEmbedding_6:0', u'others_6:0', u'userEmbedding_7:0', u'others_7:0', u'userEmbedding_8:0', u'others_8:0', u'userEmbedding_9:0', u'others_9:0', u'userEmbedding_10:0', u'others_10:0', u'userEmbedding_11:0', u'others_11:0']\n",
      "[1] [1 2]\n",
      "[u'userEmbedding:0', u'others:0', u'userEmbedding_1:0', u'others_1:0', u'userEmbedding_2:0', u'others_2:0', u'userEmbedding_3:0', u'others_3:0', u'userEmbedding_4:0', u'others_4:0', u'userEmbedding_5:0', u'others_5:0', u'userEmbedding_6:0', u'others_6:0', u'userEmbedding_7:0', u'others_7:0', u'userEmbedding_8:0', u'others_8:0', u'userEmbedding_9:0', u'others_9:0', u'userEmbedding_10:0', u'others_10:0', u'userEmbedding_11:0', u'others_11:0', u'userEmbedding_12:0', u'others_12:0']\n",
      "[2] [1 2]\n",
      "[u'userEmbedding:0', u'others:0', u'userEmbedding_1:0', u'others_1:0', u'userEmbedding_2:0', u'others_2:0', u'userEmbedding_3:0', u'others_3:0', u'userEmbedding_4:0', u'others_4:0', u'userEmbedding_5:0', u'others_5:0', u'userEmbedding_6:0', u'others_6:0', u'userEmbedding_7:0', u'others_7:0', u'userEmbedding_8:0', u'others_8:0', u'userEmbedding_9:0', u'others_9:0', u'userEmbedding_10:0', u'others_10:0', u'userEmbedding_11:0', u'others_11:0', u'userEmbedding_12:0', u'others_12:0', u'userEmbedding_13:0', u'others_13:0']\n",
      "[3] [1 2]\n",
      "[u'userEmbedding:0', u'others:0', u'userEmbedding_1:0', u'others_1:0', u'userEmbedding_2:0', u'others_2:0', u'userEmbedding_3:0', u'others_3:0', u'userEmbedding_4:0', u'others_4:0', u'userEmbedding_5:0', u'others_5:0', u'userEmbedding_6:0', u'others_6:0', u'userEmbedding_7:0', u'others_7:0', u'userEmbedding_8:0', u'others_8:0', u'userEmbedding_9:0', u'others_9:0', u'userEmbedding_10:0', u'others_10:0', u'userEmbedding_11:0', u'others_11:0', u'userEmbedding_12:0', u'others_12:0', u'userEmbedding_13:0', u'others_13:0', u'userEmbedding_14:0', u'others_14:0']\n",
      "[4] [1 2]\n",
      "[u'userEmbedding:0', u'others:0', u'userEmbedding_1:0', u'others_1:0', u'userEmbedding_2:0', u'others_2:0', u'userEmbedding_3:0', u'others_3:0', u'userEmbedding_4:0', u'others_4:0', u'userEmbedding_5:0', u'others_5:0', u'userEmbedding_6:0', u'others_6:0', u'userEmbedding_7:0', u'others_7:0', u'userEmbedding_8:0', u'others_8:0', u'userEmbedding_9:0', u'others_9:0', u'userEmbedding_10:0', u'others_10:0', u'userEmbedding_11:0', u'others_11:0', u'userEmbedding_12:0', u'others_12:0', u'userEmbedding_13:0', u'others_13:0', u'userEmbedding_14:0', u'others_14:0', u'userEmbedding_15:0', u'others_15:0']\n",
      "[5] [1 2]\n",
      "[u'userEmbedding:0', u'others:0', u'userEmbedding_1:0', u'others_1:0', u'userEmbedding_2:0', u'others_2:0', u'userEmbedding_3:0', u'others_3:0', u'userEmbedding_4:0', u'others_4:0', u'userEmbedding_5:0', u'others_5:0', u'userEmbedding_6:0', u'others_6:0', u'userEmbedding_7:0', u'others_7:0', u'userEmbedding_8:0', u'others_8:0', u'userEmbedding_9:0', u'others_9:0', u'userEmbedding_10:0', u'others_10:0', u'userEmbedding_11:0', u'others_11:0', u'userEmbedding_12:0', u'others_12:0', u'userEmbedding_13:0', u'others_13:0', u'userEmbedding_14:0', u'others_14:0', u'userEmbedding_15:0', u'others_15:0', u'userEmbedding_16:0', u'others_16:0']\n",
      "[6] [1 2]\n",
      "[u'userEmbedding:0', u'others:0', u'userEmbedding_1:0', u'others_1:0', u'userEmbedding_2:0', u'others_2:0', u'userEmbedding_3:0', u'others_3:0', u'userEmbedding_4:0', u'others_4:0', u'userEmbedding_5:0', u'others_5:0', u'userEmbedding_6:0', u'others_6:0', u'userEmbedding_7:0', u'others_7:0', u'userEmbedding_8:0', u'others_8:0', u'userEmbedding_9:0', u'others_9:0', u'userEmbedding_10:0', u'others_10:0', u'userEmbedding_11:0', u'others_11:0', u'userEmbedding_12:0', u'others_12:0', u'userEmbedding_13:0', u'others_13:0', u'userEmbedding_14:0', u'others_14:0', u'userEmbedding_15:0', u'others_15:0', u'userEmbedding_16:0', u'others_16:0', u'userEmbedding_17:0', u'others_17:0']\n",
      "[7] [1 2]\n",
      "[u'userEmbedding:0', u'others:0', u'userEmbedding_1:0', u'others_1:0', u'userEmbedding_2:0', u'others_2:0', u'userEmbedding_3:0', u'others_3:0', u'userEmbedding_4:0', u'others_4:0', u'userEmbedding_5:0', u'others_5:0', u'userEmbedding_6:0', u'others_6:0', u'userEmbedding_7:0', u'others_7:0', u'userEmbedding_8:0', u'others_8:0', u'userEmbedding_9:0', u'others_9:0', u'userEmbedding_10:0', u'others_10:0', u'userEmbedding_11:0', u'others_11:0', u'userEmbedding_12:0', u'others_12:0', u'userEmbedding_13:0', u'others_13:0', u'userEmbedding_14:0', u'others_14:0', u'userEmbedding_15:0', u'others_15:0', u'userEmbedding_16:0', u'others_16:0', u'userEmbedding_17:0', u'others_17:0', u'userEmbedding_18:0', u'others_18:0']\n",
      "[8] [1 2]\n",
      "[u'userEmbedding:0', u'others:0', u'userEmbedding_1:0', u'others_1:0', u'userEmbedding_2:0', u'others_2:0', u'userEmbedding_3:0', u'others_3:0', u'userEmbedding_4:0', u'others_4:0', u'userEmbedding_5:0', u'others_5:0', u'userEmbedding_6:0', u'others_6:0', u'userEmbedding_7:0', u'others_7:0', u'userEmbedding_8:0', u'others_8:0', u'userEmbedding_9:0', u'others_9:0', u'userEmbedding_10:0', u'others_10:0', u'userEmbedding_11:0', u'others_11:0', u'userEmbedding_12:0', u'others_12:0', u'userEmbedding_13:0', u'others_13:0', u'userEmbedding_14:0', u'others_14:0', u'userEmbedding_15:0', u'others_15:0', u'userEmbedding_16:0', u'others_16:0', u'userEmbedding_17:0', u'others_17:0', u'userEmbedding_18:0', u'others_18:0', u'userEmbedding_19:0', u'others_19:0']\n",
      "[9] [1 2]\n"
     ]
    }
   ],
   "source": [
    "#put together\n",
    "for ii in range(10):\n",
    "    if ii!=0:\n",
    "        del userEmbedding,others\n",
    "    #build graph\n",
    "    userEmbedding = tf.Variable([ii],name=\"userEmbedding\")\n",
    "    others = tf.Variable([1,2],name=\"others\")\n",
    "    globalSaver = tf.train.Saver()\n",
    "    embedSaver = tf.train.Saver({\"userEmbedding\":userEmbedding})\n",
    "    print([i.name for i in tf.get_collection(tf.GraphKeys.GLOBAL_VARIABLES)])\n",
    "    with tf.Session() as sess:\n",
    "        sess.run(tf.global_variables_initializer())\n",
    "        globalSaver.save(sess,\"test/model.ckpt\")\n",
    "        embedSaver.save(sess,\"test/embed%d.ckpt\"%ii)         \n",
    "        print userEmbedding.eval(),others.eval()\n"
   ]
  },
  {
   "cell_type": "code",
   "execution_count": null,
   "metadata": {
    "collapsed": true
   },
   "outputs": [],
   "source": []
  }
 ],
 "metadata": {
  "anaconda-cloud": {},
  "kernelspec": {
   "display_name": "Python [Root]",
   "language": "python",
   "name": "Python [Root]"
  },
  "language_info": {
   "codemirror_mode": {
    "name": "ipython",
    "version": 2
   },
   "file_extension": ".py",
   "mimetype": "text/x-python",
   "name": "python",
   "nbconvert_exporter": "python",
   "pygments_lexer": "ipython2",
   "version": "2.7.12"
  }
 },
 "nbformat": 4,
 "nbformat_minor": 0
}
