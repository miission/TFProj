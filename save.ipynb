{
 "cells": [
  {
   "cell_type": "code",
   "execution_count": 1,
   "metadata": {
    "collapsed": true
   },
   "outputs": [],
   "source": [
    "import tensorflow as tf\n",
    "import numpy as np"
   ]
  },
  {
   "cell_type": "code",
   "execution_count": 2,
   "metadata": {
    "collapsed": false
   },
   "outputs": [],
   "source": [
    "#build graph\n",
    "userEmbedding = tf.Variable([1,2],name=\"userEmbedding\",dtype=tf.float32)\n",
    "others = tf.Variable([1,2],name=\"others\",validate_shape=False,dtype=tf.float32)\n",
    "add_ph= tf.placeholder(dtype=tf.float32,shape=[])"
   ]
  },
  {
   "cell_type": "code",
   "execution_count": 3,
   "metadata": {
    "collapsed": false
   },
   "outputs": [],
   "source": [
    "#ops\n",
    "changeValue  = tf.assign(userEmbedding,userEmbedding+add_ph,name=\"changeShape\")\n",
    "changeValue2 = tf.assign(others,others+add_ph,name=\"changeShape2\")"
   ]
  },
  {
   "cell_type": "code",
   "execution_count": 4,
   "metadata": {
    "collapsed": false
   },
   "outputs": [],
   "source": [
    "#set saver\n",
    "globalSaver = tf.train.Saver()\n",
    "embedSaver = tf.train.Saver({\"userEmbedding\":userEmbedding},max_to_keep=500)"
   ]
  },
  {
   "cell_type": "code",
   "execution_count": 5,
   "metadata": {
    "collapsed": false,
    "scrolled": true
   },
   "outputs": [
    {
     "name": "stdout",
     "output_type": "stream",
     "text": [
      "INFO:tensorflow:Restoring parameters from test/model.ckpt\n",
      "graph not initiation,initial it\n",
      "test/embed0.ckpt\n",
      "load global graph [ 1.  2.] [ 1.  2.]\n",
      "INFO:tensorflow:Restoring parameters from test/embed0.ckpt\n",
      "bucket user embedding not exsit, initial it\n",
      "load user graph 0 [ 1.  2.] [ 1.  2.]\n",
      "save user graph 0 [ 1.  2.] [ 1.  2.]\n",
      "-------------------------------------------------------\n",
      "test/embed1.ckpt\n",
      "load global graph [ 1.  2.] [ 1.  2.]\n",
      "INFO:tensorflow:Restoring parameters from test/embed1.ckpt\n",
      "bucket user embedding not exsit, initial it\n",
      "load user graph 1 [ 1.  2.] [ 1.  2.]\n",
      "save user graph 1 [ 2.  3.] [ 2.  3.]\n",
      "-------------------------------------------------------\n",
      "test/embed2.ckpt\n",
      "load global graph [ 2.  3.] [ 2.  3.]\n",
      "INFO:tensorflow:Restoring parameters from test/embed2.ckpt\n",
      "bucket user embedding not exsit, initial it\n",
      "load user graph 2 [ 2.  3.] [ 2.  3.]\n",
      "save user graph 2 [ 4.  5.] [ 4.  5.]\n",
      "-------------------------------------------------------\n",
      "test/embed3.ckpt\n",
      "load global graph [ 4.  5.] [ 4.  5.]\n",
      "INFO:tensorflow:Restoring parameters from test/embed3.ckpt\n",
      "bucket user embedding not exsit, initial it\n",
      "load user graph 3 [ 4.  5.] [ 4.  5.]\n",
      "save user graph 3 [ 7.  8.] [ 7.  8.]\n",
      "-------------------------------------------------------\n"
     ]
    }
   ],
   "source": [
    "with tf.Session() as sess:\n",
    "    globalDir = \"test/model.ckpt\"\n",
    "    try:\n",
    "        globalSaver.restore(sess,globalDir)\n",
    "    except:\n",
    "        print(\"graph not initiation,initial it\")\n",
    "        sess.run(tf.global_variables_initializer())\n",
    "    for i in range(4):\n",
    "        userDir = \"test/embed%d.ckpt\"%(i)\n",
    "        print(userDir)\n",
    "        print('load global graph',userEmbedding.eval(),others.eval())\n",
    "        try:\n",
    "            embedSaver.restore(sess,userDir)\n",
    "        except:\n",
    "            print(\"bucket user embedding not exsit, initial it\")\n",
    "        print('load user graph %d'%i,userEmbedding.eval(),others.eval())    \n",
    "        sess.run(changeValue,feed_dict={add_ph:i}) \n",
    "        sess.run(changeValue2,feed_dict={add_ph:i}) \n",
    "        print('save user graph %d'%i,userEmbedding.eval(),others.eval()) \n",
    "        print(\"-------------------------------------------------------\")\n",
    "        #embedSaver.save(sess,userDir)\n",
    "    #globalSaver.save(sess,globalDir)\n",
    "        "
   ]
  },
  {
   "cell_type": "code",
   "execution_count": 6,
   "metadata": {
    "collapsed": false
   },
   "outputs": [
    {
     "name": "stdout",
     "output_type": "stream",
     "text": [
      "你好\n"
     ]
    }
   ],
   "source": [
    "a = input()"
   ]
  },
  {
   "cell_type": "code",
   "execution_count": null,
   "metadata": {
    "collapsed": true
   },
   "outputs": [],
   "source": []
  },
  {
   "cell_type": "code",
   "execution_count": 7,
   "metadata": {
    "collapsed": false
   },
   "outputs": [
    {
     "data": {
      "text/plain": [
       "'你好'"
      ]
     },
     "execution_count": 7,
     "metadata": {},
     "output_type": "execute_result"
    }
   ],
   "source": [
    "a"
   ]
  },
  {
   "cell_type": "code",
   "execution_count": null,
   "metadata": {
    "collapsed": true
   },
   "outputs": [],
   "source": []
  }
 ],
 "metadata": {
  "anaconda-cloud": {},
  "kernelspec": {
   "display_name": "Python 3",
   "language": "python",
   "name": "python3"
  },
  "language_info": {
   "codemirror_mode": {
    "name": "ipython",
    "version": 3
   },
   "file_extension": ".py",
   "mimetype": "text/x-python",
   "name": "python",
   "nbconvert_exporter": "python",
   "pygments_lexer": "ipython3",
   "version": "3.6.0"
  }
 },
 "nbformat": 4,
 "nbformat_minor": 0
}
