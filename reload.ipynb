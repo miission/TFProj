{
 "cells": [
  {
   "cell_type": "code",
   "execution_count": 1,
   "metadata": {
    "collapsed": true
   },
   "outputs": [],
   "source": [
    "import tensorflow as tf"
   ]
  },
  {
   "cell_type": "code",
   "execution_count": 2,
   "metadata": {
    "collapsed": false
   },
   "outputs": [],
   "source": [
    "#build graph\n",
    "userEmbedding = tf.Variable(1,name=\"userEmbedding\")\n",
    "others = tf.Variable([11,22],name=\"others\")"
   ]
  },
  {
   "cell_type": "code",
   "execution_count": 3,
   "metadata": {
    "collapsed": false
   },
   "outputs": [],
   "source": [
    "#set saver\n",
    "globalSaver = tf.train.Saver()\n",
    "embedSaver = tf.train.Saver({\"userEmbedding\":userEmbedding})"
   ]
  },
  {
   "cell_type": "code",
   "execution_count": 5,
   "metadata": {
    "collapsed": false
   },
   "outputs": [
    {
     "name": "stdout",
     "output_type": "stream",
     "text": [
      "1 [11 22]\n",
      "-1 [1 2]\n"
     ]
    }
   ],
   "source": [
    "with tf.Session() as sess:\n",
    "    sess.run(tf.global_variables_initializer())\n",
    "    print userEmbedding.eval(),others.eval()\n",
    "    #reload\n",
    "    globalSaver.restore(sess,\"test/model.ckpt\")\n",
    "    embedSaver.restore(sess,\"test/embed1.ckpt\")\n",
    "    print userEmbedding.eval(),others.eval()\n",
    "    "
   ]
  },
  {
   "cell_type": "code",
   "execution_count": 6,
   "metadata": {
    "collapsed": false
   },
   "outputs": [
    {
     "name": "stdout",
     "output_type": "stream",
     "text": [
      "Tensor(\"userEmbedding/read:0\", shape=(), dtype=int32)\n",
      "Tensor(\"others/read:0\", shape=(2,), dtype=int32)\n"
     ]
    }
   ],
   "source": [
    "for i in tf.get_collection(tf.GraphKeys.GLOBAL_VARIABLES):\n",
    "    print i"
   ]
  },
  {
   "cell_type": "code",
   "execution_count": null,
   "metadata": {
    "collapsed": true
   },
   "outputs": [],
   "source": []
  }
 ],
 "metadata": {
  "kernelspec": {
   "display_name": "Python [Root]",
   "language": "python",
   "name": "Python [Root]"
  },
  "language_info": {
   "codemirror_mode": {
    "name": "ipython",
    "version": 2
   },
   "file_extension": ".py",
   "mimetype": "text/x-python",
   "name": "python",
   "nbconvert_exporter": "python",
   "pygments_lexer": "ipython2",
   "version": "2.7.12"
  }
 },
 "nbformat": 4,
 "nbformat_minor": 0
}
