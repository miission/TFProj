{
 "cells": [
  {
   "cell_type": "code",
   "execution_count": 1,
   "metadata": {
    "collapsed": true
   },
   "outputs": [],
   "source": [
    "import tensorflow as tf\n",
    "import numpy as np"
   ]
  },
  {
   "cell_type": "code",
   "execution_count": 2,
   "metadata": {
    "collapsed": true
   },
   "outputs": [],
   "source": [
    "#build graph\n",
    "userEmbedding = tf.Variable(1,name=\"userEmbedding\",dtype=tf.float32)\n",
    "new = tf.Variable(11,name=\"new\",dtype=tf.float32)"
   ]
  },
  {
   "cell_type": "code",
   "execution_count": 3,
   "metadata": {
    "collapsed": true
   },
   "outputs": [],
   "source": [
    "#set saver\n",
    "globalSaver = tf.train.Saver()\n",
    "embedSaver = tf.train.Saver({\"userEmbedding\":userEmbedding},max_to_keep=500)"
   ]
  },
  {
   "cell_type": "code",
   "execution_count": 10,
   "metadata": {
    "collapsed": false
   },
   "outputs": [
    {
     "name": "stdout",
     "output_type": "stream",
     "text": [
      "INFO:tensorflow:Restoring parameters from test/model.ckpt\n",
      "graph not initiation,initial it\n",
      "load global graph 19.0 11.0,['userEmbedding:0', 'new:0']\n",
      "INFO:tensorflow:Restoring parameters from test/embed0.ckpt\n",
      "load user graph 1.0 11.0\n",
      "load global graph 1.0 11.0,['userEmbedding:0', 'new:0']\n",
      "INFO:tensorflow:Restoring parameters from test/embed1.ckpt\n",
      "load user graph 6.0 11.0\n",
      "load global graph 6.0 11.0,['userEmbedding:0', 'new:0']\n",
      "INFO:tensorflow:Restoring parameters from test/embed2.ckpt\n",
      "load user graph 12.0 11.0\n",
      "load global graph 12.0 11.0,['userEmbedding:0', 'new:0']\n",
      "INFO:tensorflow:Restoring parameters from test/embed3.ckpt\n",
      "load user graph 19.0 11.0\n"
     ]
    }
   ],
   "source": [
    "with tf.Session() as sess:\n",
    "    globalDir = \"test/model.ckpt\"\n",
    "    sess.run(tf.global_variables_initializer())\n",
    "    try:\n",
    "        globalSaver.restore(sess,globalDir)\n",
    "    except:\n",
    "        print(\"graph not initiation,initial it\")\n",
    "    for i in range(4):\n",
    "        userDir = \"test/embed%d.ckpt\"%(i)\n",
    "        print('load global graph',userEmbedding.eval(),new.eval(),end=',')\n",
    "        print([v.name for v in tf.global_variables()])\n",
    "        try:\n",
    "            embedSaver.restore(sess,userDir)\n",
    "            print('load user graph',userEmbedding.eval(),new.eval())\n",
    "        except:\n",
    "            pass\n",
    "         "
   ]
  },
  {
   "cell_type": "code",
   "execution_count": null,
   "metadata": {
    "collapsed": true
   },
   "outputs": [],
   "source": []
  }
 ],
 "metadata": {
  "kernelspec": {
   "display_name": "Python 3",
   "language": "python",
   "name": "python3"
  },
  "language_info": {
   "codemirror_mode": {
    "name": "ipython",
    "version": 3
   },
   "file_extension": ".py",
   "mimetype": "text/x-python",
   "name": "python",
   "nbconvert_exporter": "python",
   "pygments_lexer": "ipython3",
   "version": "3.6.0"
  }
 },
 "nbformat": 4,
 "nbformat_minor": 0
}
