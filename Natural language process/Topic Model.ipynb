{
 "cells": [
  {
   "cell_type": "markdown",
   "metadata": {},
   "source": [
    "# Introduction\n",
    "#### she changlue\n",
    "20th April 2017\n",
    "\n",
    "This project is construct to handle documents topic classification.\n",
    "I use self designed algorithm to efficiently embedding the documents' topic vector and tokens' topic vector.It is emperiacally proved that this algorithm can classify the topic of different documents and tokens in a speed way.\n",
    "\n",
    "this notebook will process as follow:\n",
    "1. load library and raw corpus data\n",
    "2. cut the corpus in to a list format\n",
    "3. encode the tokens and corpus\n",
    "4. construct model and train\n",
    "5. use kmeans to do tokens' and docs' cluster \n",
    "6. use T-SNE to visualization\n",
    "7. save the outcomes"
   ]
  },
  {
   "cell_type": "markdown",
   "metadata": {},
   "source": [
    "### 1)   load library and raw corpus data"
   ]
  },
  {
   "cell_type": "code",
   "execution_count": 1,
   "metadata": {
    "collapsed": false
   },
   "outputs": [],
   "source": [
    "% matplotlib inline\n",
    "import matplotlib.pyplot as plt\n",
    "import matplotlib.patheffects as PathEffects\n",
    "import matplotlib\n",
    "from random import shuffle\n",
    "from sklearn.cluster import KMeans#cluster\n",
    "\n",
    "import seaborn as sns\n",
    "sns.set_style('darkgrid')\n",
    "sns.set_palette('muted')\n",
    "sns.set_context(\"notebook\", font_scale=1.5,\n",
    "                rc={\"lines.linewidth\": 2.5})\n",
    "\n",
    "import numpy as np # linear algebra\n",
    "import pandas as pd # data processing, CSV file I/O (e.g. pd.read_csv)\n",
    "import jieba.posseg as pseg # cut the documents with token and tags\n",
    "import jieba\n",
    "import tensorflow as tf\n",
    "\n",
    "from sklearn.manifold import TSNE#cluster\n",
    "\n"
   ]
  },
  {
   "cell_type": "code",
   "execution_count": 2,
   "metadata": {
    "collapsed": false
   },
   "outputs": [
    {
     "name": "stderr",
     "output_type": "stream",
     "text": [
      "Building prefix dict from the default dictionary ...\n",
      "Loading model from cache C:\\Users\\changlue.she\\AppData\\Local\\Temp\\jieba.cache\n",
      "Loading model cost 0.969 seconds.\n",
      "Prefix dict has been built succesfully.\n"
     ]
    }
   ],
   "source": [
    "jieba.load_userdict('corpus/custormTokens.txt')  \n",
    "rawdata = pd.read_csv('corpus/opr_rem.csv', header=0,nrows=3000)"
   ]
  },
  {
   "cell_type": "markdown",
   "metadata": {},
   "source": [
    "#### corpus briefing"
   ]
  },
  {
   "cell_type": "code",
   "execution_count": 3,
   "metadata": {
    "collapsed": false
   },
   "outputs": [
    {
     "data": {
      "text/html": [
       "<div>\n",
       "<table border=\"1\" class=\"dataframe\">\n",
       "  <thead>\n",
       "    <tr style=\"text-align: right;\">\n",
       "      <th></th>\n",
       "      <th>opr_rem</th>\n",
       "    </tr>\n",
       "  </thead>\n",
       "  <tbody>\n",
       "    <tr>\n",
       "      <th>0</th>\n",
       "      <td>今天下午5点472</td>\n",
       "    </tr>\n",
       "    <tr>\n",
       "      <th>1</th>\n",
       "      <td>\\t告知客户电话15226088432</td>\n",
       "    </tr>\n",
       "    <tr>\n",
       "      <th>2</th>\n",
       "      <td>说是叔侄关系  转告</td>\n",
       "    </tr>\n",
       "    <tr>\n",
       "      <th>3</th>\n",
       "      <td>客户承诺今天下午五点存入184</td>\n",
       "    </tr>\n",
       "    <tr>\n",
       "      <th>4</th>\n",
       "      <td>已提醒征信影响。已告知从今天凌晨开始又会多增加75元的滞纳金。客户敷衍明天去解决</td>\n",
       "    </tr>\n",
       "  </tbody>\n",
       "</table>\n",
       "</div>"
      ],
      "text/plain": [
       "                                    opr_rem\n",
       "0                                 今天下午5点472\n",
       "1                       \\t告知客户电话15226088432\n",
       "2                               说是叔侄关系  转告 \n",
       "3                           客户承诺今天下午五点存入184\n",
       "4  已提醒征信影响。已告知从今天凌晨开始又会多增加75元的滞纳金。客户敷衍明天去解决"
      ]
     },
     "execution_count": 3,
     "metadata": {},
     "output_type": "execute_result"
    }
   ],
   "source": [
    "rawdata.head()"
   ]
  },
  {
   "cell_type": "code",
   "execution_count": 4,
   "metadata": {
    "collapsed": false
   },
   "outputs": [
    {
     "data": {
      "text/plain": [
       "(3000, 1)"
      ]
     },
     "execution_count": 4,
     "metadata": {},
     "output_type": "execute_result"
    }
   ],
   "source": [
    "rawdata.shape"
   ]
  },
  {
   "cell_type": "code",
   "execution_count": 5,
   "metadata": {
    "collapsed": false
   },
   "outputs": [
    {
     "data": {
      "text/html": [
       "<div>\n",
       "<table border=\"1\" class=\"dataframe\">\n",
       "  <thead>\n",
       "    <tr style=\"text-align: right;\">\n",
       "      <th></th>\n",
       "      <th>opr_rem</th>\n",
       "    </tr>\n",
       "  </thead>\n",
       "  <tbody>\n",
       "    <tr>\n",
       "      <th>count</th>\n",
       "      <td>3000</td>\n",
       "    </tr>\n",
       "    <tr>\n",
       "      <th>unique</th>\n",
       "      <td>3000</td>\n",
       "    </tr>\n",
       "    <tr>\n",
       "      <th>top</th>\n",
       "      <td>一直说不知道，然后挂断</td>\n",
       "    </tr>\n",
       "    <tr>\n",
       "      <th>freq</th>\n",
       "      <td>1</td>\n",
       "    </tr>\n",
       "  </tbody>\n",
       "</table>\n",
       "</div>"
      ],
      "text/plain": [
       "            opr_rem\n",
       "count          3000\n",
       "unique         3000\n",
       "top     一直说不知道，然后挂断\n",
       "freq              1"
      ]
     },
     "execution_count": 5,
     "metadata": {},
     "output_type": "execute_result"
    }
   ],
   "source": [
    "rawdata.describe()"
   ]
  },
  {
   "cell_type": "markdown",
   "metadata": {},
   "source": [
    "### 2) cut the corpus in to a list format"
   ]
  },
  {
   "cell_type": "code",
   "execution_count": 6,
   "metadata": {
    "collapsed": false
   },
   "outputs": [],
   "source": [
    "tokenCorpus  = []#corpus list of cutted tokens\n",
    "rawSentences = []#raw text \n",
    "#documents    = list(rawdata[rawdata['消息目标']=='机器人']['消息内容'])#text which is send by custormers\n",
    "documents    = list(rawdata['opr_rem'])#text which is send by custormers"
   ]
  },
  {
   "cell_type": "code",
   "execution_count": 7,
   "metadata": {
    "collapsed": false
   },
   "outputs": [],
   "source": [
    "# cstruct the corpus\n",
    "for sentence in documents:\n",
    "    if len(str(sentence))>4:\n",
    "        sentence = sentence.replace('\\t','')\n",
    "        tokens = []    \n",
    "        for pair in pseg.lcut(sentence):\n",
    "            if pair.flag in ['t','n','ns','vs','nv','v']:\n",
    "                tokens.append(pair.word)\n",
    "            elif pair.flag=='m':\n",
    "                if len(str(pair.word))==11:\n",
    "                    tokens.append('NUMB')\n",
    "                else:\n",
    "                    tokens.append('MON')   \n",
    "        if len(tokens)>1:\n",
    "            tokenCorpus.append(tokens)\n",
    "            rawSentences.append(sentence)"
   ]
  },
  {
   "cell_type": "code",
   "execution_count": 8,
   "metadata": {
    "collapsed": false
   },
   "outputs": [
    {
     "data": {
      "text/plain": [
       "[['MON', 'MON', 'MON'],\n",
       " ['告知', '客户', '电话', 'NUMB'],\n",
       " ['说', '是', '叔侄', '关系', '转告']]"
      ]
     },
     "execution_count": 8,
     "metadata": {},
     "output_type": "execute_result"
    }
   ],
   "source": [
    "tokenCorpus[:3]"
   ]
  },
  {
   "cell_type": "code",
   "execution_count": 9,
   "metadata": {
    "collapsed": false
   },
   "outputs": [
    {
     "data": {
      "text/plain": [
       "['今天下午5点472',\n",
       " '告知客户电话15226088432',\n",
       " '说是叔侄关系  转告 ',\n",
       " '客户承诺今天下午五点存入184',\n",
       " '已提醒征信影响。已告知从今天凌晨开始又会多增加75元的滞纳金。客户敷衍明天去解决']"
      ]
     },
     "execution_count": 9,
     "metadata": {},
     "output_type": "execute_result"
    }
   ],
   "source": [
    "rawSentences[:5]"
   ]
  },
  {
   "cell_type": "markdown",
   "metadata": {},
   "source": [
    "### 3) encode the tokens and corpus"
   ]
  },
  {
   "cell_type": "code",
   "execution_count": 10,
   "metadata": {
    "collapsed": true
   },
   "outputs": [],
   "source": [
    "HP_miniTokenFreq = 30 #minimal tokens frequency\n",
    "tokenCount = dict()  #token count\n",
    "token2code = dict()  #token to code\n",
    "code2token = ['IFRQ'] #code to token\n",
    "code       = 1       #code"
   ]
  },
  {
   "cell_type": "markdown",
   "metadata": {},
   "source": [
    "##### transfer token into codes"
   ]
  },
  {
   "cell_type": "code",
   "execution_count": 11,
   "metadata": {
    "collapsed": false
   },
   "outputs": [],
   "source": [
    "#get token frequency\n",
    "for tokens in tokenCorpus:\n",
    "    for token in tokens:\n",
    "        tokenCount.setdefault(token,0)\n",
    "        tokenCount[token]+=1  \n",
    "#encode those tokens which have minumal frequency\n",
    "for token in tokenCount:\n",
    "    if tokenCount[token] > HP_miniTokenFreq:       \n",
    "        token2code[token] = code\n",
    "        code += 1\n",
    "        code2token.append(token)\n",
    "    else:\n",
    "        token2code[token] = 0\n",
    "#transfer the raw token corpus into encoded corpus\n",
    "codeCorpus = []\n",
    "for tokens in tokenCorpus:          \n",
    "    codeCorpus.append([token2code[token]for token in tokens])"
   ]
  },
  {
   "cell_type": "markdown",
   "metadata": {},
   "source": [
    "### 4) construct model and train"
   ]
  },
  {
   "cell_type": "code",
   "execution_count": 12,
   "metadata": {
    "collapsed": false
   },
   "outputs": [
    {
     "name": "stdout",
     "output_type": "stream",
     "text": [
      "the training documents num: 2929\n",
      "the training tokens    num: 76\n"
     ]
    }
   ],
   "source": [
    "HP_topicNums = 8\n",
    "documNums = len(codeCorpus)\n",
    "tokenNums = len(code2token)\n",
    "print(\"the training documents num:\",documNums)\n",
    "print(\"the training tokens    num:\",tokenNums)"
   ]
  },
  {
   "cell_type": "markdown",
   "metadata": {},
   "source": [
    "##### dense list to sparse numpy"
   ]
  },
  {
   "cell_type": "code",
   "execution_count": 13,
   "metadata": {
    "collapsed": false
   },
   "outputs": [],
   "source": [
    "tokenDocMat = np.zeros(shape=(documNums,tokenNums),dtype=np.float32)\n",
    "for docIdx in range(documNums):\n",
    "    tokenDocMat[docIdx][codeCorpus[docIdx]]=1\n",
    "docTokenNum = tokenDocMat.sum(axis=1).reshape((-1,1))   "
   ]
  },
  {
   "cell_type": "markdown",
   "metadata": {},
   "source": [
    "##### get doc index and shuffle it"
   ]
  },
  {
   "cell_type": "code",
   "execution_count": 14,
   "metadata": {
    "collapsed": false
   },
   "outputs": [],
   "source": [
    "docIndxSpan = np.array(range(documNums),dtype=np.int32)\n",
    "shuffle(docIndxSpan)"
   ]
  },
  {
   "cell_type": "markdown",
   "metadata": {},
   "source": [
    "##### construct the graph"
   ]
  },
  {
   "cell_type": "code",
   "execution_count": 15,
   "metadata": {
    "collapsed": false
   },
   "outputs": [],
   "source": [
    "#embedding initial\n",
    "docum2topicEmbed  = tf.Variable(tf.random_uniform([documNums,HP_topicNums], -1.0, 1.0),name='docEmbed')\n",
    "token2topicWeight = tf.Variable(tf.random_uniform([HP_topicNums,tokenNums], -1.0, 1.0),name='tokenEmbed')\n",
    "multiplierEmbed   = tf.constant(docTokenNum,dtype=tf.float32)"
   ]
  },
  {
   "cell_type": "code",
   "execution_count": 16,
   "metadata": {
    "collapsed": false
   },
   "outputs": [],
   "source": [
    "#placeholder\n",
    "document_idx   = tf.placeholder(tf.int32, shape=[None])\n",
    "document_embed = tf.nn.embedding_lookup(docum2topicEmbed,document_idx) \n",
    "multiplier     = tf.nn.embedding_lookup(multiplierEmbed ,document_idx) \n",
    "tokensInDoc    = tf.placeholder(tf.float32,shape=[None,tokenNums])"
   ]
  },
  {
   "cell_type": "code",
   "execution_count": 17,
   "metadata": {
    "collapsed": false
   },
   "outputs": [],
   "source": [
    "#forward \n",
    "with tf.name_scope(\"TM\"):\n",
    "    documentembed_Sfmx     = tf.nn.softmax(document_embed)\n",
    "    token2topicWeight_Sfmx = tf.nn.softmax(token2topicWeight,dim=0)\n",
    "    tokensInDoc_pred       = tf.nn.softmax(tf.matmul(documentembed_Sfmx,token2topicWeight_Sfmx))*multiplier                           "
   ]
  },
  {
   "cell_type": "code",
   "execution_count": 18,
   "metadata": {
    "collapsed": false
   },
   "outputs": [],
   "source": [
    "# use least squre loss to train model\n",
    "with tf.name_scope(\"loss\"):   \n",
    "    loss = tf.reduce_mean(tf.square(tokensInDoc - tokensInDoc_pred))"
   ]
  },
  {
   "cell_type": "code",
   "execution_count": 19,
   "metadata": {
    "collapsed": false
   },
   "outputs": [],
   "source": [
    "learning_rate = 0.1\n",
    "with tf.name_scope(\"train\"):    \n",
    "    optimizer   = tf.train.AdamOptimizer(learning_rate)\n",
    "    #set train operation\n",
    "    training_op = optimizer.minimize(loss)\n",
    "    #set predict operation\n",
    "    train_vars = tf.get_collection(tf.GraphKeys.TRAINABLE_VARIABLES,scope=\"docEmbed\")\n",
    "    predict_op = optimizer.minimize(loss, var_list=train_vars)"
   ]
  },
  {
   "cell_type": "code",
   "execution_count": 20,
   "metadata": {
    "collapsed": true
   },
   "outputs": [],
   "source": [
    "#initial and save\n",
    "init = tf.global_variables_initializer()\n",
    "saver = tf.train.Saver()"
   ]
  },
  {
   "cell_type": "markdown",
   "metadata": {},
   "source": [
    "#### training the tensorflow graph"
   ]
  },
  {
   "cell_type": "code",
   "execution_count": 33,
   "metadata": {
    "collapsed": false,
    "scrolled": true
   },
   "outputs": [
    {
     "name": "stdout",
     "output_type": "stream",
     "text": [
      "0.0548076\n",
      "0.0547711\n",
      "0.054604\n",
      "0.0540513\n",
      "0.0531102\n",
      "0.0522185\n",
      "0.0516673\n",
      "0.0513571\n",
      "0.051149\n",
      "0.0510297\n",
      "finished training,now begin predict\n",
      "0.0509515\n"
     ]
    }
   ],
   "source": [
    "#hyperparameters\n",
    "n_epochs   = 100\n",
    "printLoop  = n_epochs/10\n",
    "traningNum = 10000\n",
    "batchNums  = documNums//traningNum+1\n",
    "with tf.Session() as sess:    \n",
    "    init.run()\n",
    "    for epoch in range(n_epochs):\n",
    "        #training\n",
    "        trainIdx = docIndxSpan[:traningNum]\n",
    "        top,train_loss =sess.run([training_op,loss], feed_dict={document_idx : trainIdx,                                                          \n",
    "                                                                tokensInDoc  : tokenDocMat[trainIdx]})  \n",
    "        if epoch%printLoop==0:\n",
    "            print(train_loss)\n",
    "    save_path = saver.save(sess,\"tfsave/topic_model.ckpt\")\n",
    "    print(\"finished training,now begin predict\")\n",
    "    for epoch in range(n_epochs//10):\n",
    "        for batch in range(batchNums):\n",
    "        #training\n",
    "            trainIdx = docIndxSpan[batch*traningNum:(batch+1)*traningNum]\n",
    "            top,train_loss =sess.run([predict_op,loss], feed_dict={document_idx : trainIdx,                                                          \n",
    "                                                                   tokensInDoc  : tokenDocMat[trainIdx]})  \n",
    "        if epoch%printLoop==0:\n",
    "            print(train_loss)\n",
    "    # get embedding\n",
    "    documMat = documentembed_Sfmx.eval(feed_dict={document_idx : docIndxSpan})\n",
    "    tokenMat = token2topicWeight_Sfmx.eval()"
   ]
  },
  {
   "cell_type": "code",
   "execution_count": 34,
   "metadata": {
    "collapsed": false
   },
   "outputs": [
    {
     "data": {
      "text/plain": [
       "(array([ 1.        ,  0.99999994,  0.99999982,  1.        ,  0.99999994], dtype=float32),\n",
       " array([ 0.99999994,  0.99999982,  1.        ,  0.99999988,  0.99999994], dtype=float32))"
      ]
     },
     "execution_count": 34,
     "metadata": {},
     "output_type": "execute_result"
    }
   ],
   "source": [
    "documMat.sum(axis=1)[:5],tokenMat.sum(axis=0)[:5]"
   ]
  },
  {
   "cell_type": "markdown",
   "metadata": {},
   "source": [
    "#### show the rough topic"
   ]
  },
  {
   "cell_type": "code",
   "execution_count": 35,
   "metadata": {
    "collapsed": false
   },
   "outputs": [],
   "source": [
    "topK = 10\n",
    "outDF = []\n",
    "keyWords = []\n",
    "keySentences = []\n",
    "for idx in range(HP_topicNums):    \n",
    "    ords = np.argsort(-tokenMat[idx])[:topK]\n",
    "    tmp = ['主题'+str(idx+1)]\n",
    "    tmp += [code2token[i]for i in ords]\n",
    "    keyWords+=tmp\n",
    "    ords = np.argsort(-documMat.T[idx])[:topK]\n",
    "    tmp = ['------------------------------']\n",
    "    tmp +=[rawSentences[i]for i in ords]\n",
    "    keySentences+=tmp\n",
    "outDF = [keyWords,keySentences] \n",
    "outDF = pd.DataFrame(outDF).T\n",
    "outDF.to_csv('save/topic.csv',encoding='gbk',index=False)"
   ]
  },
  {
   "cell_type": "code",
   "execution_count": 36,
   "metadata": {
    "collapsed": false
   },
   "outputs": [
    {
     "data": {
      "text/html": [
       "<div>\n",
       "<table border=\"1\" class=\"dataframe\">\n",
       "  <thead>\n",
       "    <tr style=\"text-align: right;\">\n",
       "      <th></th>\n",
       "      <th>0</th>\n",
       "      <th>1</th>\n",
       "    </tr>\n",
       "  </thead>\n",
       "  <tbody>\n",
       "    <tr>\n",
       "      <th>0</th>\n",
       "      <td>主题1</td>\n",
       "      <td>------------------------------</td>\n",
       "    </tr>\n",
       "    <tr>\n",
       "      <th>1</th>\n",
       "      <td>说</td>\n",
       "      <td>本人接听，，，承诺明天下午四点前   还款353</td>\n",
       "    </tr>\n",
       "    <tr>\n",
       "      <th>2</th>\n",
       "      <td>告知</td>\n",
       "      <td>告知征信影响，客户答应今天下午4点之前处理还款，金额：217</td>\n",
       "    </tr>\n",
       "    <tr>\n",
       "      <th>3</th>\n",
       "      <td>没有</td>\n",
       "      <td>一女接电 不在家</td>\n",
       "    </tr>\n",
       "    <tr>\n",
       "      <th>4</th>\n",
       "      <td>去</td>\n",
       "      <td>一直说我们扣过他的款了  说他的工商卡上的钱已经被扣了  这边跟他核实是中信银行  他明天去...</td>\n",
       "    </tr>\n",
       "    <tr>\n",
       "      <th>5</th>\n",
       "      <td>会</td>\n",
       "      <td>已划扣201</td>\n",
       "    </tr>\n",
       "    <tr>\n",
       "      <th>6</th>\n",
       "      <td>让</td>\n",
       "      <td>爷爷接听，，说妈妈采桑叶去了，说客户有好几个月没见了，打电话打不通，</td>\n",
       "    </tr>\n",
       "    <tr>\n",
       "      <th>7</th>\n",
       "      <td>要</td>\n",
       "      <td>卡有钱，已存    362</td>\n",
       "    </tr>\n",
       "    <tr>\n",
       "      <th>8</th>\n",
       "      <td>核实</td>\n",
       "      <td>客户本人承诺今天下午四点前存入 681 元</td>\n",
       "    </tr>\n",
       "    <tr>\n",
       "      <th>9</th>\n",
       "      <td>客服</td>\n",
       "      <td>卡里有钱  430元 系统处理中</td>\n",
       "    </tr>\n",
       "    <tr>\n",
       "      <th>10</th>\n",
       "      <td>欠款</td>\n",
       "      <td>客户承诺今日下午9点前存入117</td>\n",
       "    </tr>\n",
       "    <tr>\n",
       "      <th>11</th>\n",
       "      <td>主题2</td>\n",
       "      <td>------------------------------</td>\n",
       "    </tr>\n",
       "    <tr>\n",
       "      <th>12</th>\n",
       "      <td>母亲</td>\n",
       "      <td>本接，称联系客户了，客户称知道了还是前面说的半个月，问客户是否回电，已告知未回，已经联系上当...</td>\n",
       "    </tr>\n",
       "    <tr>\n",
       "      <th>13</th>\n",
       "      <td>接</td>\n",
       "      <td>7月9下午5点之前存款。</td>\n",
       "    </tr>\n",
       "    <tr>\n",
       "      <th>14</th>\n",
       "      <td>挂</td>\n",
       "      <td>今天下午四点前存224元</td>\n",
       "    </tr>\n",
       "    <tr>\n",
       "      <th>15</th>\n",
       "      <td>接听</td>\n",
       "      <td>今天下午4点之前存  226        元</td>\n",
       "    </tr>\n",
       "    <tr>\n",
       "      <th>16</th>\n",
       "      <td>父亲</td>\n",
       "      <td>卡里有钱实时划扣金额 367 如扣款失败系统下午五点划扣</td>\n",
       "    </tr>\n",
       "    <tr>\n",
       "      <th>17</th>\n",
       "      <td>查询</td>\n",
       "      <td>明天下午5点前将416+775元存入银行</td>\n",
       "    </tr>\n",
       "    <tr>\n",
       "      <th>18</th>\n",
       "      <td>认识</td>\n",
       "      <td>已存 224   元。处理中。</td>\n",
       "    </tr>\n",
       "    <tr>\n",
       "      <th>19</th>\n",
       "      <td>代扣</td>\n",
       "      <td>小号联系　明天下午５点前存入７２３</td>\n",
       "    </tr>\n",
       "    <tr>\n",
       "      <th>20</th>\n",
       "      <td>打</td>\n",
       "      <td>说是被销售骗了</td>\n",
       "    </tr>\n",
       "    <tr>\n",
       "      <th>21</th>\n",
       "      <td>小号</td>\n",
       "      <td>15113258599来电。不愿提供身份信息，说我们是骗人的</td>\n",
       "    </tr>\n",
       "    <tr>\n",
       "      <th>22</th>\n",
       "      <td>主题3</td>\n",
       "      <td>------------------------------</td>\n",
       "    </tr>\n",
       "    <tr>\n",
       "      <th>23</th>\n",
       "      <td>联系</td>\n",
       "      <td>客户承诺明天下午4点前存入532</td>\n",
       "    </tr>\n",
       "    <tr>\n",
       "      <th>24</th>\n",
       "      <td>朋友</td>\n",
       "      <td>今天晚上9点前存273 元</td>\n",
       "    </tr>\n",
       "    <tr>\n",
       "      <th>25</th>\n",
       "      <td>转告</td>\n",
       "      <td>15077595030本人来电，已扣款</td>\n",
       "    </tr>\n",
       "    <tr>\n",
       "      <th>26</th>\n",
       "      <td>电话</td>\n",
       "      <td>客户母亲接电，说明情况后转告，核实客户单位，母亲说实在客户系统提供的单位上班，单位地址也没错...</td>\n",
       "    </tr>\n",
       "    <tr>\n",
       "      <th>27</th>\n",
       "      <td>钱</td>\n",
       "      <td>明天下午4点前存 265 元</td>\n",
       "    </tr>\n",
       "    <tr>\n",
       "      <th>28</th>\n",
       "      <td>是</td>\n",
       "      <td>今天下午5点还款609元</td>\n",
       "    </tr>\n",
       "    <tr>\n",
       "      <th>29</th>\n",
       "      <td>今天</td>\n",
       "      <td>17353755116销售冒充本人来电  问存了多少钱都不知道  告知让客户本人来电</td>\n",
       "    </tr>\n",
       "    <tr>\n",
       "      <th>...</th>\n",
       "      <td>...</td>\n",
       "      <td>...</td>\n",
       "    </tr>\n",
       "    <tr>\n",
       "      <th>58</th>\n",
       "      <td>下午</td>\n",
       "      <td>18726860197客户姐姐来电，查对公 告知5个工作日</td>\n",
       "    </tr>\n",
       "    <tr>\n",
       "      <th>59</th>\n",
       "      <td>存</td>\n",
       "      <td>15893012678咨询对公</td>\n",
       "    </tr>\n",
       "    <tr>\n",
       "      <th>60</th>\n",
       "      <td>让</td>\n",
       "      <td>15871429811客户来电咨询扣款，系统处理中，</td>\n",
       "    </tr>\n",
       "    <tr>\n",
       "      <th>61</th>\n",
       "      <td>今天</td>\n",
       "      <td>说等一分钟打过去</td>\n",
       "    </tr>\n",
       "    <tr>\n",
       "      <th>62</th>\n",
       "      <td>客服</td>\n",
       "      <td>今天下午2点前存入  984  元</td>\n",
       "    </tr>\n",
       "    <tr>\n",
       "      <th>63</th>\n",
       "      <td>欠款</td>\n",
       "      <td>母亲接听电话，要去找客户核实，九号中午12点之前会处理，金额835</td>\n",
       "    </tr>\n",
       "    <tr>\n",
       "      <th>64</th>\n",
       "      <td>有</td>\n",
       "      <td>不认识客户     听不懂说的啥</td>\n",
       "    </tr>\n",
       "    <tr>\n",
       "      <th>65</th>\n",
       "      <td>小号</td>\n",
       "      <td>说自己拿了1W多</td>\n",
       "    </tr>\n",
       "    <tr>\n",
       "      <th>66</th>\n",
       "      <td>主题7</td>\n",
       "      <td>------------------------------</td>\n",
       "    </tr>\n",
       "    <tr>\n",
       "      <th>67</th>\n",
       "      <td>处理</td>\n",
       "      <td>18234567512来电扣款成功，申请提前还款。</td>\n",
       "    </tr>\n",
       "    <tr>\n",
       "      <th>68</th>\n",
       "      <td>还款</td>\n",
       "      <td>13544197470本人来电 扣款</td>\n",
       "    </tr>\n",
       "    <tr>\n",
       "      <th>69</th>\n",
       "      <td>金额</td>\n",
       "      <td>手机联系，客户姐姐承诺明天下午4点前存入1432元</td>\n",
       "    </tr>\n",
       "    <tr>\n",
       "      <th>70</th>\n",
       "      <td>系统</td>\n",
       "      <td>今天6点前存入   2000元     已提醒客户征信影响！</td>\n",
       "    </tr>\n",
       "    <tr>\n",
       "      <th>71</th>\n",
       "      <td>中午</td>\n",
       "      <td>说自己确实不认识客户，每天打来电话已经影响到对方的生活了</td>\n",
       "    </tr>\n",
       "    <tr>\n",
       "      <th>72</th>\n",
       "      <td>称</td>\n",
       "      <td>核实不了加项信息  补充上一条，打错了</td>\n",
       "    </tr>\n",
       "    <tr>\n",
       "      <th>73</th>\n",
       "      <td>客服</td>\n",
       "      <td>客户承诺还款，明天中午12点前存入237    已告知征信影响</td>\n",
       "    </tr>\n",
       "    <tr>\n",
       "      <th>74</th>\n",
       "      <td>让</td>\n",
       "      <td>客户答应今天5点存金额：414  已提醒逾期会影响征信记录</td>\n",
       "    </tr>\n",
       "    <tr>\n",
       "      <th>75</th>\n",
       "      <td>欠款</td>\n",
       "      <td>微信提现中，24小时到账，已提醒客户征信影响</td>\n",
       "    </tr>\n",
       "    <tr>\n",
       "      <th>76</th>\n",
       "      <td>有钱</td>\n",
       "      <td>今天晚上8点之前改卡存入  1552 元</td>\n",
       "    </tr>\n",
       "    <tr>\n",
       "      <th>77</th>\n",
       "      <td>主题8</td>\n",
       "      <td>------------------------------</td>\n",
       "    </tr>\n",
       "    <tr>\n",
       "      <th>78</th>\n",
       "      <td>存入</td>\n",
       "      <td>21号中午12点前存入447元</td>\n",
       "    </tr>\n",
       "    <tr>\n",
       "      <th>79</th>\n",
       "      <td>客户</td>\n",
       "      <td>9号下午5点前存344</td>\n",
       "    </tr>\n",
       "    <tr>\n",
       "      <th>80</th>\n",
       "      <td>承诺</td>\n",
       "      <td>今天下午4点前存 335元</td>\n",
       "    </tr>\n",
       "    <tr>\n",
       "      <th>81</th>\n",
       "      <td>征信</td>\n",
       "      <td>要他再次转告客户回电</td>\n",
       "    </tr>\n",
       "    <tr>\n",
       "      <th>82</th>\n",
       "      <td>明天</td>\n",
       "      <td>来电说卡上钱只有400多，5分钟之内存入另一笔。记得扣款</td>\n",
       "    </tr>\n",
       "    <tr>\n",
       "      <th>83</th>\n",
       "      <td>提醒</td>\n",
       "      <td>客户已离职，不方便转告</td>\n",
       "    </tr>\n",
       "    <tr>\n",
       "      <th>84</th>\n",
       "      <td>今天</td>\n",
       "      <td>18620793934来电要求扣款成功。</td>\n",
       "    </tr>\n",
       "    <tr>\n",
       "      <th>85</th>\n",
       "      <td>中午</td>\n",
       "      <td>13975993241销售来电扣款</td>\n",
       "    </tr>\n",
       "    <tr>\n",
       "      <th>86</th>\n",
       "      <td>客服</td>\n",
       "      <td>18726012521来电  扣款 老婆处理中</td>\n",
       "    </tr>\n",
       "    <tr>\n",
       "      <th>87</th>\n",
       "      <td>欠款</td>\n",
       "      <td>月底发工资  想办法    老人住院</td>\n",
       "    </tr>\n",
       "  </tbody>\n",
       "</table>\n",
       "<p>88 rows × 2 columns</p>\n",
       "</div>"
      ],
      "text/plain": [
       "      0                                                  1\n",
       "0   主题1                     ------------------------------\n",
       "1     说                           本人接听，，，承诺明天下午四点前   还款353\n",
       "2    告知                     告知征信影响，客户答应今天下午4点之前处理还款，金额：217\n",
       "3    没有                                           一女接电 不在家\n",
       "4     去  一直说我们扣过他的款了  说他的工商卡上的钱已经被扣了  这边跟他核实是中信银行  他明天去...\n",
       "5     会                                             已划扣201\n",
       "6     让                 爷爷接听，，说妈妈采桑叶去了，说客户有好几个月没见了，打电话打不通，\n",
       "7     要                                      卡有钱，已存    362\n",
       "8    核实                              客户本人承诺今天下午四点前存入 681 元\n",
       "9    客服                                   卡里有钱  430元 系统处理中\n",
       "10   欠款                                   客户承诺今日下午9点前存入117\n",
       "11  主题2                     ------------------------------\n",
       "12   母亲  本接，称联系客户了，客户称知道了还是前面说的半个月，问客户是否回电，已告知未回，已经联系上当...\n",
       "13    接                                       7月9下午5点之前存款。\n",
       "14    挂                                       今天下午四点前存224元\n",
       "15   接听                            今天下午4点之前存  226        元\n",
       "16   父亲                       卡里有钱实时划扣金额 367 如扣款失败系统下午五点划扣\n",
       "17   查询                               明天下午5点前将416+775元存入银行\n",
       "18   认识                                    已存 224   元。处理中。\n",
       "19   代扣                                  小号联系　明天下午５点前存入７２３\n",
       "20    打                                           说是被销售骗了 \n",
       "21   小号                     15113258599来电。不愿提供身份信息，说我们是骗人的\n",
       "22  主题3                     ------------------------------\n",
       "23   联系                                   客户承诺明天下午4点前存入532\n",
       "24   朋友                                      今天晚上9点前存273 元\n",
       "25   转告                                15077595030本人来电，已扣款\n",
       "26   电话  客户母亲接电，说明情况后转告，核实客户单位，母亲说实在客户系统提供的单位上班，单位地址也没错...\n",
       "27    钱                                    明天下午4点前存 265 元 \n",
       "28    是                                       今天下午5点还款609元\n",
       "29   今天         17353755116销售冒充本人来电  问存了多少钱都不知道  告知让客户本人来电\n",
       "..  ...                                                ...\n",
       "58   下午                      18726860197客户姐姐来电，查对公 告知5个工作日\n",
       "59    存                                    15893012678咨询对公\n",
       "60    让                         15871429811客户来电咨询扣款，系统处理中，\n",
       "61   今天                                           说等一分钟打过去\n",
       "62   客服                                  今天下午2点前存入  984  元\n",
       "63   欠款                  母亲接听电话，要去找客户核实，九号中午12点之前会处理，金额835\n",
       "64    有                                   不认识客户     听不懂说的啥\n",
       "65   小号                                           说自己拿了1W多\n",
       "66  主题7                     ------------------------------\n",
       "67   处理                          18234567512来电扣款成功，申请提前还款。\n",
       "68   还款                                 13544197470本人来电 扣款\n",
       "69   金额                          手机联系，客户姐姐承诺明天下午4点前存入1432元\n",
       "70   系统                     今天6点前存入   2000元     已提醒客户征信影响！\n",
       "71   中午                       说自己确实不认识客户，每天打来电话已经影响到对方的生活了\n",
       "72    称                               核实不了加项信息  补充上一条，打错了 \n",
       "73   客服                    客户承诺还款，明天中午12点前存入237    已告知征信影响\n",
       "74    让                   客户答应今天5点存金额：414  已提醒逾期会影响征信记录   \n",
       "75   欠款                             微信提现中，24小时到账，已提醒客户征信影响\n",
       "76   有钱                               今天晚上8点之前改卡存入  1552 元\n",
       "77  主题8                     ------------------------------\n",
       "78   存入                                    21号中午12点前存入447元\n",
       "79   客户                                        9号下午5点前存344\n",
       "80   承诺                                      今天下午4点前存 335元\n",
       "81   征信                                         要他再次转告客户回电\n",
       "82   明天                       来电说卡上钱只有400多，5分钟之内存入另一笔。记得扣款\n",
       "83   提醒                                        客户已离职，不方便转告\n",
       "84   今天                               18620793934来电要求扣款成功。\n",
       "85   中午                                  13975993241销售来电扣款\n",
       "86   客服                            18726012521来电  扣款 老婆处理中\n",
       "87   欠款                               月底发工资  想办法    老人住院  \n",
       "\n",
       "[88 rows x 2 columns]"
      ]
     },
     "execution_count": 36,
     "metadata": {},
     "output_type": "execute_result"
    }
   ],
   "source": [
    "outDF.head(100)"
   ]
  },
  {
   "cell_type": "markdown",
   "metadata": {},
   "source": [
    "### 5)  use kmeans to do tokens' and docs' cluster"
   ]
  },
  {
   "cell_type": "code",
   "execution_count": 37,
   "metadata": {
    "collapsed": true
   },
   "outputs": [],
   "source": [
    "tokenMat_KM = KMeans(n_clusters=HP_topicNums, random_state=0).fit(tokenMat.T)\n",
    "documMat_KM = KMeans(n_clusters=HP_topicNums, random_state=0).fit(documMat)"
   ]
  },
  {
   "cell_type": "code",
   "execution_count": 38,
   "metadata": {
    "collapsed": true
   },
   "outputs": [],
   "source": [
    "tokenMat_Label = tokenMat_KM.labels_\n",
    "documMat_Label = documMat_KM.labels_"
   ]
  },
  {
   "cell_type": "markdown",
   "metadata": {},
   "source": [
    "### 6)  use T-SNE to visualization"
   ]
  },
  {
   "cell_type": "code",
   "execution_count": 39,
   "metadata": {
    "collapsed": false
   },
   "outputs": [],
   "source": [
    "tokenMat_tsne_embed = TSNE(random_state=1).fit_transform(tokenMat.T)  \n",
    "documMat_tsne_embed = TSNE(random_state=1).fit_transform(documMat)  "
   ]
  },
  {
   "cell_type": "markdown",
   "metadata": {},
   "source": [
    "##### the visualization of word embeddings"
   ]
  },
  {
   "cell_type": "code",
   "execution_count": 40,
   "metadata": {
    "collapsed": false
   },
   "outputs": [
    {
     "data": {
      "text/plain": [
       "<matplotlib.collections.PathCollection at 0x1966d588>"
      ]
     },
     "execution_count": 40,
     "metadata": {},
     "output_type": "execute_result"
    },
    {
     "data": {
      "image/png": "[encoded data removed]",
      "text/plain": [
       "<matplotlib.figure.Figure at 0x19122518>"
      ]
     },
     "metadata": {},
     "output_type": "display_data"
    }
   ],
   "source": [
    "plt.scatter(tokenMat_tsne_embed[:,0],tokenMat_tsne_embed[:,1],c=tokenMat_Label, cmap=plt.cm.get_cmap(\"jet\", 10))"
   ]
  },
  {
   "cell_type": "markdown",
   "metadata": {},
   "source": [
    "##### the visualization of document embeddings"
   ]
  },
  {
   "cell_type": "code",
   "execution_count": 41,
   "metadata": {
    "collapsed": false
   },
   "outputs": [
    {
     "data": {
      "text/plain": [
       "<matplotlib.collections.PathCollection at 0x18df8f60>"
      ]
     },
     "execution_count": 41,
     "metadata": {},
     "output_type": "execute_result"
    },
    {
     "data": {
      "image/png": "[encoded data removed]",
      "text/plain": [
       "<matplotlib.figure.Figure at 0x19691780>"
      ]
     },
     "metadata": {},
     "output_type": "display_data"
    }
   ],
   "source": [
    "plt.scatter(documMat_tsne_embed[:,0],documMat_tsne_embed[:,1],c=documMat_Label, cmap=plt.cm.get_cmap(\"jet\", 10))"
   ]
  },
  {
   "cell_type": "markdown",
   "metadata": {},
   "source": [
    "### 7)  save the outcomes"
   ]
  },
  {
   "cell_type": "code",
   "execution_count": 42,
   "metadata": {
    "collapsed": true
   },
   "outputs": [],
   "source": [
    "outDF= pd.DataFrame()\n",
    "outDF['text']=rawSentences\n",
    "outDF['label']=documMat_Label"
   ]
  },
  {
   "cell_type": "code",
   "execution_count": 43,
   "metadata": {
    "collapsed": false
   },
   "outputs": [
    {
     "data": {
      "text/html": [
       "<div>\n",
       "<table border=\"1\" class=\"dataframe\">\n",
       "  <thead>\n",
       "    <tr style=\"text-align: right;\">\n",
       "      <th></th>\n",
       "      <th>text</th>\n",
       "      <th>label</th>\n",
       "    </tr>\n",
       "  </thead>\n",
       "  <tbody>\n",
       "    <tr>\n",
       "      <th>0</th>\n",
       "      <td>今天下午5点472</td>\n",
       "      <td>0</td>\n",
       "    </tr>\n",
       "    <tr>\n",
       "      <th>1</th>\n",
       "      <td>告知客户电话15226088432</td>\n",
       "      <td>2</td>\n",
       "    </tr>\n",
       "    <tr>\n",
       "      <th>2</th>\n",
       "      <td>说是叔侄关系  转告</td>\n",
       "      <td>0</td>\n",
       "    </tr>\n",
       "    <tr>\n",
       "      <th>3</th>\n",
       "      <td>客户承诺今天下午五点存入184</td>\n",
       "      <td>1</td>\n",
       "    </tr>\n",
       "    <tr>\n",
       "      <th>4</th>\n",
       "      <td>已提醒征信影响。已告知从今天凌晨开始又会多增加75元的滞纳金。客户敷衍明天去解决</td>\n",
       "      <td>1</td>\n",
       "    </tr>\n",
       "    <tr>\n",
       "      <th>5</th>\n",
       "      <td>今天晚上4点前存入721</td>\n",
       "      <td>0</td>\n",
       "    </tr>\n",
       "    <tr>\n",
       "      <th>6</th>\n",
       "      <td>13606375572销售来电扣款</td>\n",
       "      <td>2</td>\n",
       "    </tr>\n",
       "    <tr>\n",
       "      <th>7</th>\n",
       "      <td>告知征信影响   明天下午5点前存入金额791</td>\n",
       "      <td>1</td>\n",
       "    </tr>\n",
       "    <tr>\n",
       "      <th>8</th>\n",
       "      <td>只是人生，转告</td>\n",
       "      <td>2</td>\n",
       "    </tr>\n",
       "    <tr>\n",
       "      <th>9</th>\n",
       "      <td>来电咨询提现告知打客服</td>\n",
       "      <td>0</td>\n",
       "    </tr>\n",
       "    <tr>\n",
       "      <th>10</th>\n",
       "      <td>客户承诺今天下午四点之前处理账款：397</td>\n",
       "      <td>0</td>\n",
       "    </tr>\n",
       "    <tr>\n",
       "      <th>11</th>\n",
       "      <td>未打，跑批失败，91天的客户</td>\n",
       "      <td>1</td>\n",
       "    </tr>\n",
       "    <tr>\n",
       "      <th>12</th>\n",
       "      <td>客户承诺今天下午5点前存入189  元</td>\n",
       "      <td>4</td>\n",
       "    </tr>\n",
       "    <tr>\n",
       "      <th>13</th>\n",
       "      <td>母亲接，听不懂说话，大概意思是自己没钱，同意联系转告</td>\n",
       "      <td>1</td>\n",
       "    </tr>\n",
       "    <tr>\n",
       "      <th>14</th>\n",
       "      <td>18781618308本人来电添加新号码</td>\n",
       "      <td>2</td>\n",
       "    </tr>\n",
       "    <tr>\n",
       "      <th>15</th>\n",
       "      <td>明天中午12点之前存357  元            已提醒客户征信影响</td>\n",
       "      <td>0</td>\n",
       "    </tr>\n",
       "    <tr>\n",
       "      <th>16</th>\n",
       "      <td>今天下午4点之前存银行卡681元</td>\n",
       "      <td>0</td>\n",
       "    </tr>\n",
       "    <tr>\n",
       "      <th>17</th>\n",
       "      <td>今天下午4点前还   208</td>\n",
       "      <td>5</td>\n",
       "    </tr>\n",
       "    <tr>\n",
       "      <th>18</th>\n",
       "      <td>今天下午4点钱存到农行卡上</td>\n",
       "      <td>3</td>\n",
       "    </tr>\n",
       "    <tr>\n",
       "      <th>19</th>\n",
       "      <td>已存299  处理中</td>\n",
       "      <td>3</td>\n",
       "    </tr>\n",
       "    <tr>\n",
       "      <th>20</th>\n",
       "      <td>二姑13137398846，答应转告客回电</td>\n",
       "      <td>2</td>\n",
       "    </tr>\n",
       "    <tr>\n",
       "      <th>21</th>\n",
       "      <td>来电  咨询欠款问题 咨询还款问题 已告知 要求扣款1020.55+397.77 成功</td>\n",
       "      <td>3</td>\n",
       "    </tr>\n",
       "    <tr>\n",
       "      <th>22</th>\n",
       "      <td>今天下午4点前存216元</td>\n",
       "      <td>0</td>\n",
       "    </tr>\n",
       "    <tr>\n",
       "      <th>23</th>\n",
       "      <td>小号短信已发</td>\n",
       "      <td>1</td>\n",
       "    </tr>\n",
       "    <tr>\n",
       "      <th>24</th>\n",
       "      <td>说办理了一次性还清   然后就不说话了</td>\n",
       "      <td>0</td>\n",
       "    </tr>\n",
       "    <tr>\n",
       "      <th>25</th>\n",
       "      <td>离婚了没联系了</td>\n",
       "      <td>0</td>\n",
       "    </tr>\n",
       "    <tr>\n",
       "      <th>26</th>\n",
       "      <td>明天下午4点前还  379</td>\n",
       "      <td>1</td>\n",
       "    </tr>\n",
       "    <tr>\n",
       "      <th>27</th>\n",
       "      <td>后天下午4点前还296  已提醒客户征信影响</td>\n",
       "      <td>0</td>\n",
       "    </tr>\n",
       "    <tr>\n",
       "      <th>28</th>\n",
       "      <td>18477120289本人来电已存钱，告知处理中</td>\n",
       "      <td>0</td>\n",
       "    </tr>\n",
       "    <tr>\n",
       "      <th>29</th>\n",
       "      <td>客户承诺今天下午五点之前还款 400  已提醒征信影响</td>\n",
       "      <td>0</td>\n",
       "    </tr>\n",
       "    <tr>\n",
       "      <th>...</th>\n",
       "      <td>...</td>\n",
       "      <td>...</td>\n",
       "    </tr>\n",
       "    <tr>\n",
       "      <th>70</th>\n",
       "      <td>回电客户，称今晚上能处理好，明天早上扣款</td>\n",
       "      <td>2</td>\n",
       "    </tr>\n",
       "    <tr>\n",
       "      <th>71</th>\n",
       "      <td>本接  明天中午12点前存好</td>\n",
       "      <td>1</td>\n",
       "    </tr>\n",
       "    <tr>\n",
       "      <th>72</th>\n",
       "      <td>客户已存款845元</td>\n",
       "      <td>1</td>\n",
       "    </tr>\n",
       "    <tr>\n",
       "      <th>73</th>\n",
       "      <td>客户承诺明天下午5点处理还款，金额：220</td>\n",
       "      <td>0</td>\n",
       "    </tr>\n",
       "    <tr>\n",
       "      <th>74</th>\n",
       "      <td>朋友电话  转告</td>\n",
       "      <td>1</td>\n",
       "    </tr>\n",
       "    <tr>\n",
       "      <th>75</th>\n",
       "      <td>说今天10点前存钱</td>\n",
       "      <td>1</td>\n",
       "    </tr>\n",
       "    <tr>\n",
       "      <th>76</th>\n",
       "      <td>13005492248来电咨询一次性还款</td>\n",
       "      <td>2</td>\n",
       "    </tr>\n",
       "    <tr>\n",
       "      <th>77</th>\n",
       "      <td>客户承诺明天中午12 点还款，金额：  279</td>\n",
       "      <td>2</td>\n",
       "    </tr>\n",
       "    <tr>\n",
       "      <th>78</th>\n",
       "      <td>全是杂音，听不清再说什么</td>\n",
       "      <td>0</td>\n",
       "    </tr>\n",
       "    <tr>\n",
       "      <th>79</th>\n",
       "      <td>今天下午1点前存188</td>\n",
       "      <td>0</td>\n",
       "    </tr>\n",
       "    <tr>\n",
       "      <th>80</th>\n",
       "      <td>手机联系，明天下午4点存入1767</td>\n",
       "      <td>2</td>\n",
       "    </tr>\n",
       "    <tr>\n",
       "      <th>81</th>\n",
       "      <td>13965500402销售来电，扣款，已扣</td>\n",
       "      <td>2</td>\n",
       "    </tr>\n",
       "    <tr>\n",
       "      <th>82</th>\n",
       "      <td>客户承诺今天中午12点之前存至少244元</td>\n",
       "      <td>2</td>\n",
       "    </tr>\n",
       "    <tr>\n",
       "      <th>83</th>\n",
       "      <td>小号联系答应明天中午12点还款1600</td>\n",
       "      <td>2</td>\n",
       "    </tr>\n",
       "    <tr>\n",
       "      <th>84</th>\n",
       "      <td>说明天下午5点前存1031.90</td>\n",
       "      <td>0</td>\n",
       "    </tr>\n",
       "    <tr>\n",
       "      <th>85</th>\n",
       "      <td>客户承诺今天4点之前存入 275  元   ，</td>\n",
       "      <td>6</td>\n",
       "    </tr>\n",
       "    <tr>\n",
       "      <th>86</th>\n",
       "      <td>来电已存289</td>\n",
       "      <td>2</td>\n",
       "    </tr>\n",
       "    <tr>\n",
       "      <th>87</th>\n",
       "      <td>18285128120本人来电 提前还款转客服</td>\n",
       "      <td>7</td>\n",
       "    </tr>\n",
       "    <tr>\n",
       "      <th>88</th>\n",
       "      <td>15986575850销售来电本人来电咨询一次性还款</td>\n",
       "      <td>0</td>\n",
       "    </tr>\n",
       "    <tr>\n",
       "      <th>89</th>\n",
       "      <td>一男士能够提供客户的名字但是无法提供身份证号，对方称自己不是客户，说不认识客户</td>\n",
       "      <td>2</td>\n",
       "    </tr>\n",
       "    <tr>\n",
       "      <th>90</th>\n",
       "      <td>认为滞纳金高</td>\n",
       "      <td>2</td>\n",
       "    </tr>\n",
       "    <tr>\n",
       "      <th>91</th>\n",
       "      <td>15806716949来电  结清  告知客服电话</td>\n",
       "      <td>2</td>\n",
       "    </tr>\n",
       "    <tr>\n",
       "      <th>92</th>\n",
       "      <td>客户答应3月8号下午6点之前处理还款，金额：3408</td>\n",
       "      <td>2</td>\n",
       "    </tr>\n",
       "    <tr>\n",
       "      <th>93</th>\n",
       "      <td>客户已承诺今天晚上12点前还100  元 和532元  已提醒客户征信影响</td>\n",
       "      <td>0</td>\n",
       "    </tr>\n",
       "    <tr>\n",
       "      <th>94</th>\n",
       "      <td>联系过，未致电</td>\n",
       "      <td>0</td>\n",
       "    </tr>\n",
       "    <tr>\n",
       "      <th>95</th>\n",
       "      <td>贷款人朋友电话一直无人接听</td>\n",
       "      <td>2</td>\n",
       "    </tr>\n",
       "    <tr>\n",
       "      <th>96</th>\n",
       "      <td>转告过了  联系不上</td>\n",
       "      <td>1</td>\n",
       "    </tr>\n",
       "    <tr>\n",
       "      <th>97</th>\n",
       "      <td>客户承诺明天晚上9点之前还320</td>\n",
       "      <td>0</td>\n",
       "    </tr>\n",
       "    <tr>\n",
       "      <th>98</th>\n",
       "      <td>已告知5点前提醒卡号金额.</td>\n",
       "      <td>1</td>\n",
       "    </tr>\n",
       "    <tr>\n",
       "      <th>99</th>\n",
       "      <td>今天下午5点前395</td>\n",
       "      <td>0</td>\n",
       "    </tr>\n",
       "  </tbody>\n",
       "</table>\n",
       "<p>100 rows × 2 columns</p>\n",
       "</div>"
      ],
      "text/plain": [
       "                                           text  label\n",
       "0                                     今天下午5点472      0\n",
       "1                             告知客户电话15226088432      2\n",
       "2                                   说是叔侄关系  转告       0\n",
       "3                               客户承诺今天下午五点存入184      1\n",
       "4      已提醒征信影响。已告知从今天凌晨开始又会多增加75元的滞纳金。客户敷衍明天去解决      1\n",
       "5                                  今天晚上4点前存入721      0\n",
       "6                            13606375572销售来电扣款       2\n",
       "7                    告知征信影响   明天下午5点前存入金额791         1\n",
       "8                                       只是人生，转告      2\n",
       "9                                   来电咨询提现告知打客服      0\n",
       "10                         客户承诺今天下午四点之前处理账款：397      0\n",
       "11                               未打，跑批失败，91天的客户      1\n",
       "12                          客户承诺今天下午5点前存入189  元      4\n",
       "13                   母亲接，听不懂说话，大概意思是自己没钱，同意联系转告      1\n",
       "14                         18781618308本人来电添加新号码      2\n",
       "15        明天中午12点之前存357  元            已提醒客户征信影响      0\n",
       "16                             今天下午4点之前存银行卡681元      0\n",
       "17                               今天下午4点前还   208      5\n",
       "18                                今天下午4点钱存到农行卡上      3\n",
       "19                                   已存299  处理中      3\n",
       "20                        二姑13137398846，答应转告客回电      2\n",
       "21  来电  咨询欠款问题 咨询还款问题 已告知 要求扣款1020.55+397.77 成功      3\n",
       "22                                 今天下午4点前存216元      0\n",
       "23                                      小号短信已发       1\n",
       "24                          说办理了一次性还清   然后就不说话了      0\n",
       "25                                      离婚了没联系了      0\n",
       "26                                明天下午4点前还  379      1\n",
       "27                       后天下午4点前还296  已提醒客户征信影响      0\n",
       "28                     18477120289本人来电已存钱，告知处理中      0\n",
       "29                  客户承诺今天下午五点之前还款 400  已提醒征信影响      0\n",
       "..                                          ...    ...\n",
       "70                         回电客户，称今晚上能处理好，明天早上扣款      2\n",
       "71                               本接  明天中午12点前存好      1\n",
       "72                                    客户已存款845元      1\n",
       "73                        客户承诺明天下午5点处理还款，金额：220      0\n",
       "74                                     朋友电话  转告      1\n",
       "75                                    说今天10点前存钱      1\n",
       "76                         13005492248来电咨询一次性还款      2\n",
       "77                      客户承诺明天中午12 点还款，金额：  279      2\n",
       "78                                 全是杂音，听不清再说什么      0\n",
       "79                                  今天下午1点前存188      0\n",
       "80                            手机联系，明天下午4点存入1767      2\n",
       "81                        13965500402销售来电，扣款，已扣      2\n",
       "82                         客户承诺今天中午12点之前存至少244元      2\n",
       "83                          小号联系答应明天中午12点还款1600      2\n",
       "84                             说明天下午5点前存1031.90      0\n",
       "85                      客户承诺今天4点之前存入 275  元   ，      6\n",
       "86                                      来电已存289      2\n",
       "87                      18285128120本人来电 提前还款转客服      7\n",
       "88                   15986575850销售来电本人来电咨询一次性还款      0\n",
       "89      一男士能够提供客户的名字但是无法提供身份证号，对方称自己不是客户，说不认识客户      2\n",
       "90                                       认为滞纳金高      2\n",
       "91                  15806716949来电  结清  告知客服电话        2\n",
       "92                   客户答应3月8号下午6点之前处理还款，金额：3408      2\n",
       "93        客户已承诺今天晚上12点前还100  元 和532元  已提醒客户征信影响      0\n",
       "94                                      联系过，未致电      0\n",
       "95                                贷款人朋友电话一直无人接听      2\n",
       "96                                   转告过了  联系不上      1\n",
       "97                             客户承诺明天晚上9点之前还320      0\n",
       "98                                已告知5点前提醒卡号金额.      1\n",
       "99                                   今天下午5点前395      0\n",
       "\n",
       "[100 rows x 2 columns]"
      ]
     },
     "execution_count": 43,
     "metadata": {},
     "output_type": "execute_result"
    }
   ],
   "source": [
    "outDF.head(100)"
   ]
  },
  {
   "cell_type": "code",
   "execution_count": 32,
   "metadata": {
    "collapsed": false
   },
   "outputs": [],
   "source": [
    "outDF.to_csv('save/docLabel.csv',encoding='gbk',index=False)"
   ]
  },
  {
   "cell_type": "code",
   "execution_count": null,
   "metadata": {
    "collapsed": true
   },
   "outputs": [],
   "source": []
  }
 ],
 "metadata": {
  "anaconda-cloud": {},
  "kernelspec": {
   "display_name": "Python [default]",
   "language": "python",
   "name": "python3"
  },
  "language_info": {
   "codemirror_mode": {
    "name": "ipython",
    "version": 3
   },
   "file_extension": ".py",
   "mimetype": "text/x-python",
   "name": "python",
   "nbconvert_exporter": "python",
   "pygments_lexer": "ipython3",
   "version": "3.5.2"
  }
 },
 "nbformat": 4,
 "nbformat_minor": 2
}
