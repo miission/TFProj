{
 "cells": [
  {
   "cell_type": "markdown",
   "metadata": {},
   "source": [
    "# Introduction\n",
    "#### she changlue\n",
    "24th May 2017\n",
    "\n",
    "This project use LSTM model to handle text classification problems.\n",
    "\n",
    "\n",
    "this notebook will process as follow:\n",
    "1. load library and raw corpus data\n",
    "2. cut the corpus in to a list format\n",
    "3. encode the tokens and corpus\n",
    "4. construct model and train\n",
    "5. use kmeans to do tokens' and docs' cluster \n",
    "6. use T-SNE to visualization\n",
    "7. save the outcomes"
   ]
  },
  {
   "cell_type": "markdown",
   "metadata": {},
   "source": [
    "### 1)   load library and raw corpus data"
   ]
  },
  {
   "cell_type": "code",
   "execution_count": 1,
   "metadata": {
    "collapsed": false
   },
   "outputs": [],
   "source": [
    "import os\n",
    "import re\n",
    "import string\n",
    "import requests\n",
    "import numpy as np\n",
    "import collections\n",
    "import random\n",
    "import pickle\n",
    "import matplotlib.pyplot as plt\n",
    "import tensorflow as tf"
   ]
  },
  {
   "cell_type": "code",
   "execution_count": 2,
   "metadata": {
    "collapsed": false
   },
   "outputs": [],
   "source": [
    "parameterssess = tf.Session()"
   ]
  },
  {
   "cell_type": "code",
   "execution_count": 5,
   "metadata": {
    "collapsed": false
   },
   "outputs": [],
   "source": [
    "# Set RNN Parameters\n",
    "min_word_freq = 5\n",
    "rnn_size = 128\n",
    "epochs = 10\n",
    "batch_size = 100\n",
    "learning_rate = 0.001\n",
    "training_seq_len = 50\n",
    "embedding_size = rnn_size\n",
    "save_every = 500\n",
    "eval_every = 50\n",
    "prime_texts = ['thou art more', 'to be or not to', 'wherefore art thou']"
   ]
  },
  {
   "cell_type": "code",
   "execution_count": 6,
   "metadata": {
    "collapsed": true
   },
   "outputs": [],
   "source": [
    "data_dir       = 'temp'\n",
    "data_file      = 'shakespeare.txt'\n",
    "model_path     = 'shakespeare_model'\n",
    "full_model_dir = os.path.join(data_dir, model_path)\n",
    "# Declare punctuation to remove, everything except hyphens and apostrophes\n",
    "punctuation    = string.punctuation\n",
    "punctuation    = ''.join([x for x in punctuation if x not in ['-', \"'\"]])"
   ]
  },
  {
   "cell_type": "code",
   "execution_count": 8,
   "metadata": {
    "collapsed": false
   },
   "outputs": [
    {
     "name": "stdout",
     "output_type": "stream",
     "text": [
      "Loading Shakespeare Data\n"
     ]
    }
   ],
   "source": [
    "if not os.path.exists(full_model_dir):\n",
    "    os.makedirs(full_model_dir)\n",
    "# Make data directory\n",
    "if not os.path.exists(data_dir):\n",
    "    os.makedirs(data_dir)\n",
    "print('Loading Shakespeare Data')"
   ]
  },
  {
   "cell_type": "code",
   "execution_count": 9,
   "metadata": {
    "collapsed": false
   },
   "outputs": [
    {
     "name": "stdout",
     "output_type": "stream",
     "text": [
      "Not found, downloading Shakespeare texts fromwww.gutenberg.org\n"
     ]
    }
   ],
   "source": [
    "# Check if file is downloaded.\n",
    "if not os.path.isfile(os.path.join(data_dir, data_file)):\n",
    "    print('Not found, downloading Shakespeare texts from www.gutenberg.org')\n",
    "    shakespeare_url = 'http://www.gutenberg.org/cache/epub/100/pg100.txt'\n",
    "    # Get Shakespeare text\n",
    "    response = requests.get(shakespeare_url)\n",
    "    shakespeare_file = response.content\n",
    "    # Decode binary into string\n",
    "    s_text = shakespeare_file.decode('utf-8')\n",
    "    # Drop first few descriptive paragraphs.\n",
    "    s_text = s_text[7675:]\n",
    "    # Remove newlines\n",
    "    s_text = s_text.replace('\\r\\n', '')\n",
    "    s_text = s_text.replace('\\n', '')\n",
    "    # Write to file\n",
    "    with open(os.path.join(data_dir, data_file), 'w') as out_conn:\n",
    "        out_conn.write(s_text)\n",
    "else:\n",
    "# If file has been saved, load from that file\n",
    "    with open(os.path.join(data_dir, data_file), 'r') as file_conn:\n",
    "        s_text = file_conn.read().replace('\\n', '')"
   ]
  },
  {
   "cell_type": "code",
   "execution_count": 10,
   "metadata": {
    "collapsed": true
   },
   "outputs": [],
   "source": [
    "s_text = re.sub(r'[{}]'.format(punctuation), ' ', s_text)\n",
    "s_text = re.sub('\\s+', ' ', s_text ).strip().lower()"
   ]
  },
  {
   "cell_type": "code",
   "execution_count": 11,
   "metadata": {
    "collapsed": true
   },
   "outputs": [],
   "source": [
    "class LSTM_Model():\n",
    "    def __init__(self, rnn_size, batch_size, learning_rate,training_seq_len, vocab_size, infer =False):\n",
    "        self.rnn_size = rnn_size\n",
    "        self.vocab_size = vocab_size\n",
    "        self.infer = infer\n",
    "        self.learning_rate = learning_rate\n",
    "        \n",
    "        if infer:\n",
    "            self.batch_size = 1\n",
    "            self.training_seq_len = 1\n",
    "        else:\n",
    "            self.batch_size = batch_size\n",
    "            self.training_seq_len = training_seq_len\n",
    "            \n",
    "        self.lstm_cell = tf.nn.rnn_cell.BasicLSTMCell(rnn_size)\n",
    "        self.initial_state = self.lstm_cell.zero_state(self.batch_size, tf.float32)\n",
    "        self.x_data = tf.placeholder(tf.int32,[self.batch_size, self.training_seq_len])\n",
    "        self.y_output = tf.placeholder(tf.int32, [self.batch_size, self.training_seq_len])\n",
    "        \n",
    "        with tf.variable_scope('lstm_vars'):\n",
    "            # Softmax Output Weights\n",
    "            W = tf.get_variable('W', [self.rnn_size,self.vocab_size], tf.float32, tf.random_normal_initializer())\n",
    "            b = tf.get_variable('b', [self.vocab_size],tf.float32, tf.constant_initializer(0.0))\n",
    "            \n",
    "    # Define Embedding\n",
    "        embedding_mat   = tf.get_variable('embedding_mat',[self.vocab_size, self.rnn_size], tf.float32,tf.random_normal_initializer())\n",
    "        embedding_output =tf.nn.embedding_lookup(embedding_mat, self.x_data)\n",
    "        rnn_inputs = tf.split(1, self.training_seq_len,embedding_output)\n",
    "        rnn_inputs_trimmed = [tf.squeeze(x, [1]) for x in rnn_inputs]\n",
    "# If we are inferring (generating text), we add a 'loop' function\n",
    "# Define how to get the i+1 th input from the i th output\n",
    "        def inferred_loop(prev, count):\n",
    "            prev_transformed = tf.matmul(prev, W) + b\n",
    "            prev_symbol      = tf.stop_gradient(tf.argmax(prev_transformed, 1))\n",
    "            output           = tf.nn.embedding_lookup(embedding_mat,prev_symbol)\n",
    "            return(output)\n",
    "        \n",
    "        decoder = tf.nn.seq2seq.rnn_decoder\n",
    "        outputs, last_state = decoder(rnn_inputs_trimmed,self.initial_state,self.lstm_cell,loop_function=inferred_loop if infer else None)\n",
    "        # Non inferred outputs\n",
    "        output = tf.reshape(tf.concat(1, outputs), [-1,self.rnn_size])\n",
    "        # Logits and output\n",
    "        self.logit_output = tf.matmul(output, W) + b\n",
    "        self.model_output = tf.nn.softmax(self.logit_output)\n",
    "        \n",
    "        loss_fun = tf.nn.seq2seq.sequence_loss_by_example\n",
    "        loss = loss_fun([self.logit_output],[tf.reshape(self.y_output, [-1])],[tf.ones([self.batch_size *self.training_seq_len])],self.vocab_size)\n",
    "        \n",
    "        self.cost = tf.reduce_sum(loss) / (self.batch_size *self.training_seq_len)\n",
    "        self.final_state = last_state\n",
    "        gradients, _ =  tf.clip_by_global_norm(tf.gradients(self.cost,tf.trainable_variables()), 4.5)\n",
    "        optimizer =tf.train.AdamOptimizer(self.learning_rate)\n",
    "        self.train_op = optimizer.apply_gradients(zip(gradients, tf.trainable_variables()))\n",
    "        \n",
    "        def sample(self, sess, words=ix2vocab, vocab=vocab2ix,num=10, prime_text='thou art'):\n",
    "            state = sess.run(self.lstm_cell.zero_state(1,tf.float32))\n",
    "            word_list = prime_text.split()\n",
    "            for word in word_list[:-1]:\n",
    "                x = np.zeros((1, 1))\n",
    "                x[0, 0] = vocab[word]\n",
    "                feed_dict = {self.x_data: x,self.initial_state:state}\n",
    "                [state] = sess.run([self.final_state],feed_dict=feed_dict)\n",
    "                out_sentence = prime_text\n",
    "                word = word_list[-1]\n",
    "            for n in range(num):\n",
    "                x = np.zeros((1, 1))\n",
    "                x[0, 0] = vocab[word]\n",
    "                feed_dict = {self.x_data: x,self.initial_state:state}\n",
    "                [model_output, state] =sess.run([self.model_output, self.final_state],feed_dict=feed_dict)\n",
    "                sample = np.argmax(model_output[0])\n",
    "                if sample == 0:\n",
    "                    break\n",
    "                word = words[sample]\n",
    "                out_sentence = out_sentence + ' ' + word\n",
    "            return(out_sentence)"
   ]
  },
  {
   "cell_type": "code",
   "execution_count": null,
   "metadata": {
    "collapsed": true
   },
   "outputs": [],
   "source": [
    "\n"
   ]
  }
 ],
 "metadata": {
  "anaconda-cloud": {},
  "kernelspec": {
   "display_name": "Python [default]",
   "language": "python",
   "name": "python3"
  },
  "language_info": {
   "codemirror_mode": {
    "name": "ipython",
    "version": 3
   },
   "file_extension": ".py",
   "mimetype": "text/x-python",
   "name": "python",
   "nbconvert_exporter": "python",
   "pygments_lexer": "ipython3",
   "version": "3.5.2"
  }
 },
 "nbformat": 4,
 "nbformat_minor": 2
}
