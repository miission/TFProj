{
 "cells": [
  {
   "cell_type": "markdown",
   "metadata": {},
   "source": [
    "# Introduction\n",
    "#### she changlue\n",
    "20th April 2017\n",
    "\n",
    "This project use LSTM model to handle text classification problems.\n",
    "\n",
    "\n",
    "this notebook will process as follow:\n",
    "1. load library and raw corpus data\n",
    "2. cut the corpus in to a list format\n",
    "3. encode the tokens and corpus\n",
    "4. construct model and train\n",
    "5. use kmeans to do tokens' and docs' cluster \n",
    "6. use T-SNE to visualization\n",
    "7. save the outcomes"
   ]
  },
  {
   "cell_type": "markdown",
   "metadata": {},
   "source": [
    "### 1)   load library and raw corpus data"
   ]
  },
  {
   "cell_type": "code",
   "execution_count": 1,
   "metadata": {
    "collapsed": false
   },
   "outputs": [],
   "source": [
    "% matplotlib inline\n",
    "import matplotlib.pyplot as plt\n",
    "import matplotlib.patheffects as PathEffects\n",
    "import matplotlib\n",
    "\n",
    "from sklearn.cluster import KMeans#cluster\n",
    "from random import shuffle\n",
    "import seaborn as sns\n",
    "sns.set_style('darkgrid')\n",
    "sns.set_palette('muted')\n",
    "sns.set_context(\"notebook\", font_scale=1.5,\n",
    "                rc={\"lines.linewidth\": 2.5})\n",
    "\n",
    "from tensorflow.contrib.layers import fully_connected\n",
    "\n",
    "import numpy as np # linear algebra\n",
    "import pandas as pd # data processing, CSV file I/O (e.g. pd.read_csv)\n",
    "import jieba.posseg as pseg # cut the documents with token and tags\n",
    "import jieba\n",
    "import tensorflow as tf\n",
    "\n",
    "from sklearn.manifold import TSNE#cluster\n",
    "# Any results you write to the current directory are saved as output."
   ]
  },
  {
   "cell_type": "code",
   "execution_count": 2,
   "metadata": {
    "collapsed": false
   },
   "outputs": [],
   "source": [
    "from nltk.corpus import brown\n",
    "tokenCorpus = brown.sents(categories=None)\n",
    "tokenCorpus = list(tokenCorpus)"
   ]
  },
  {
   "cell_type": "markdown",
   "metadata": {},
   "source": [
    "# 1) encode the tokens and corpus"
   ]
  },
  {
   "cell_type": "code",
   "execution_count": 3,
   "metadata": {
    "collapsed": true
   },
   "outputs": [],
   "source": [
    "HP_miniTokenFreq = 50 #minimal tokens frequency\n",
    "tokenCount = dict()  #token count\n",
    "token2code = dict()  #token to code\n",
    "code2token = ['inFreqTokens'] #code to token\n",
    "code       = 1       #code"
   ]
  },
  {
   "cell_type": "markdown",
   "metadata": {},
   "source": [
    "##### transfer token into codes"
   ]
  },
  {
   "cell_type": "code",
   "execution_count": 4,
   "metadata": {
    "collapsed": false
   },
   "outputs": [],
   "source": [
    "#get token frequency\n",
    "for tokens in tokenCorpus:\n",
    "    for token in tokens:\n",
    "        tokenCount.setdefault(token,0)\n",
    "        tokenCount[token]+=1  \n",
    "#encode those tokens which have minumal frequency\n",
    "for token in tokenCount:\n",
    "    if tokenCount[token] > HP_miniTokenFreq:       \n",
    "        token2code[token] = code\n",
    "        code += 1\n",
    "        code2token.append(token)\n",
    "    else:\n",
    "        token2code[token] = 0\n",
    "#transfer the raw token corpus into encoded corpus\n",
    "codeCorpus = []\n",
    "for tokens in tokenCorpus:          \n",
    "    codeCorpus.append([token2code[token]for token in tokens])"
   ]
  },
  {
   "cell_type": "markdown",
   "metadata": {},
   "source": [
    "# 2) construct model and train"
   ]
  },
  {
   "cell_type": "code",
   "execution_count": 5,
   "metadata": {
    "collapsed": false
   },
   "outputs": [
    {
     "name": "stdout",
     "output_type": "stream",
     "text": [
      "the training documents num: 57340\n",
      "the training tokens    num: 2241\n"
     ]
    }
   ],
   "source": [
    "documNums = len(codeCorpus)\n",
    "tokenNums = len(code2token)\n",
    "print(\"the training documents num:\",documNums)\n",
    "print(\"the training tokens    num:\",tokenNums)"
   ]
  },
  {
   "cell_type": "markdown",
   "metadata": {},
   "source": [
    "##### dense list to sparse numpy"
   ]
  },
  {
   "cell_type": "code",
   "execution_count": 6,
   "metadata": {
    "collapsed": false
   },
   "outputs": [],
   "source": [
    "HP_max_steps = 30\n",
    "tokenMat   = np.array([ [tokens[idx] if idx<len(tokens)-1else 0 for idx in range(HP_max_steps)]for tokens in codeCorpus],dtype=np.int32)\n",
    "labelMat   = np.array([ [tokens[idx] if idx<len(tokens)else 0 for idx in range(1,HP_max_steps+1)]for tokens in codeCorpus],dtype=np.int32)\n",
    "seq_length = np.array([len(tokens)for tokens in codeCorpus],dtype=np.int32)\n",
    "all_index  = np.arange(len(tokenMat))"
   ]
  },
  {
   "cell_type": "code",
   "execution_count": 7,
   "metadata": {
    "collapsed": false
   },
   "outputs": [],
   "source": [
    "shuffle(all_index)"
   ]
  },
  {
   "cell_type": "code",
   "execution_count": 8,
   "metadata": {
    "collapsed": false
   },
   "outputs": [],
   "source": [
    "training_num = int(len(tokenMat)*0.7)\n",
    "train_index = all_index[:training_num]\n",
    "test_index  = all_index[training_num:]\n",
    "\n",
    "train_x = tokenMat[train_index]\n",
    "train_y = labelMat[train_index]\n",
    "test_x  = tokenMat[test_index]\n",
    "test_y  = labelMat[test_index]\n",
    "train_seq_length = seq_length[train_index]\n",
    "test_seq_length  = seq_length[test_index]"
   ]
  },
  {
   "cell_type": "markdown",
   "metadata": {},
   "source": [
    "##### construct the graph"
   ]
  },
  {
   "cell_type": "code",
   "execution_count": 9,
   "metadata": {
    "collapsed": true
   },
   "outputs": [],
   "source": [
    "#hyperparameters\n",
    "HP_embed_size  = 128\n",
    "HP_n_neurons   = 100\n",
    "learning_rate  = 0.01\n",
    "n_outputs      = tokenNums"
   ]
  },
  {
   "cell_type": "code",
   "execution_count": 10,
   "metadata": {
    "collapsed": false
   },
   "outputs": [],
   "source": [
    "#placeholder\n",
    "tokenEmbed     = tf.Variable(tf.random_uniform([tokenNums,HP_embed_size], -1.0, 1.0))\n",
    "token_code_ph  = tf.placeholder(tf.int32, [None,HP_max_steps])\n",
    "seq_length_ph  = tf.placeholder(tf.int32, [None])\n",
    "y_ph           = tf.placeholder(tf.int32, [None,HP_max_steps])\n",
    "\n",
    "token_embed    = tf.nn.embedding_lookup(tokenEmbed, token_code_ph)"
   ]
  },
  {
   "cell_type": "code",
   "execution_count": 11,
   "metadata": {
    "collapsed": false
   },
   "outputs": [
    {
     "data": {
      "text/plain": [
       "<tf.Tensor 'embedding_lookup:0' shape=(?, 30, 128) dtype=float32>"
      ]
     },
     "execution_count": 11,
     "metadata": {},
     "output_type": "execute_result"
    }
   ],
   "source": [
    "token_embed"
   ]
  },
  {
   "cell_type": "code",
   "execution_count": 12,
   "metadata": {
    "collapsed": false,
    "scrolled": true
   },
   "outputs": [],
   "source": [
    "#forward \n",
    "with tf.name_scope(\"lstm\"):   \n",
    "    basic_cell = tf.contrib.rnn.BasicLSTMCell(num_units=HP_n_neurons)\n",
    "    outputs, states      = tf.nn.dynamic_rnn(basic_cell, token_embed, dtype=tf.float32,sequence_length=seq_length_ph) \n",
    "    stacked_lstm_outputs = tf.reshape(outputs, [-1, HP_n_neurons])\n",
    "    stacked_outputs      = fully_connected(stacked_lstm_outputs, n_outputs,activation_fn=None)\n",
    "    logits = tf.reshape(stacked_outputs, [-1, HP_max_steps, n_outputs])"
   ]
  },
  {
   "cell_type": "code",
   "execution_count": 13,
   "metadata": {
    "collapsed": false
   },
   "outputs": [],
   "source": [
    "with tf.name_scope(\"loss\"):   \n",
    "    xentropy = tf.nn.sparse_softmax_cross_entropy_with_logits(labels=y_ph, logits=logits)\n",
    "    loss = tf.reduce_mean(xentropy)"
   ]
  },
  {
   "cell_type": "code",
   "execution_count": 14,
   "metadata": {
    "collapsed": false
   },
   "outputs": [],
   "source": [
    "with tf.name_scope(\"training\"):   \n",
    "    optimizer   = tf.train.AdamOptimizer(learning_rate=learning_rate)\n",
    "    training_op = optimizer.minimize(loss)"
   ]
  },
  {
   "cell_type": "code",
   "execution_count": null,
   "metadata": {
    "collapsed": true
   },
   "outputs": [],
   "source": [
    "#initial and save\n",
    "init = tf.global_variables_initializer()\n",
    "saver = tf.train.Saver()"
   ]
  },
  {
   "cell_type": "markdown",
   "metadata": {},
   "source": [
    "#### training the tensorflow graph"
   ]
  },
  {
   "cell_type": "code",
   "execution_count": null,
   "metadata": {
    "collapsed": false,
    "scrolled": true
   },
   "outputs": [],
   "source": [
    "#start training\n",
    "n_epochs   = 1000\n",
    "batch_size = 100\n",
    "batch_num  = documNums//batch_size+1\n",
    " \n",
    "with tf.Session() as sess:    \n",
    "    init.run()\n",
    "    for epoch in range(n_epochs):\n",
    "        for batch in range(batch_num):          \n",
    "            train_x_batch    = train_x [batch*batch_size:(batch+1)*batch_size]\n",
    "            seq_length_batch = train_seq_length [batch*batch_size:(batch+1)*batch_size]\n",
    "            train_y_batch    = train_y [batch*batch_size:(batch+1)*batch_size]\n",
    "\n",
    "            #training\n",
    "            sess.run(training_op, feed_dict={token_code_ph  : train_x_batch,\n",
    "                                             seq_length_ph  : seq_length_batch,\n",
    "                                             y_ph           : train_y_batch})  \n",
    "        if epoch%1==0:    \n",
    "            train_acc = loss.eval(feed_dict={ token_code_ph : train_x,\n",
    "                                                  seq_length_ph : train_seq_length,\n",
    "                                                  y_ph          : train_y})\n",
    "\n",
    "            test_acc  = loss.eval(feed_dict={ token_code_ph : test_x,\n",
    "                                                  seq_length_ph : test_seq_length,\n",
    "                                                  y_ph          : test_y})\n",
    "            print(train_acc,test_acc)\n",
    "    save_path = saver.save(sess,\"tfsave/topic_model.ckpt\")\n",
    " "
   ]
  },
  {
   "cell_type": "code",
   "execution_count": null,
   "metadata": {
    "collapsed": true
   },
   "outputs": [],
   "source": []
  }
 ],
 "metadata": {
  "anaconda-cloud": {},
  "kernelspec": {
   "display_name": "Python [default]",
   "language": "python",
   "name": "python3"
  },
  "language_info": {
   "codemirror_mode": {
    "name": "ipython",
    "version": 3
   },
   "file_extension": ".py",
   "mimetype": "text/x-python",
   "name": "python",
   "nbconvert_exporter": "python",
   "pygments_lexer": "ipython3",
   "version": "3.5.2"
  }
 },
 "nbformat": 4,
 "nbformat_minor": 2
}
