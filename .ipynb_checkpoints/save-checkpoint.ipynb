{
 "cells": [
  {
   "cell_type": "code",
   "execution_count": 1,
   "metadata": {
    "collapsed": true
   },
   "outputs": [],
   "source": [
    "import tensorflow as tf"
   ]
  },
  {
   "cell_type": "code",
   "execution_count": 2,
   "metadata": {
    "collapsed": true
   },
   "outputs": [],
   "source": [
    "ii=2"
   ]
  },
  {
   "cell_type": "code",
   "execution_count": 4,
   "metadata": {
    "collapsed": false
   },
   "outputs": [],
   "source": [
    "#build graph\n",
    "userEmbedding = tf.Variable([ii],name=\"userEmbedding\")\n",
    "others = tf.Variable([1,2],name=\"others\",validate_shape=False)"
   ]
  },
  {
   "cell_type": "code",
   "execution_count": 5,
   "metadata": {
    "collapsed": false
   },
   "outputs": [],
   "source": [
    "#ops\n",
    "changeShape = tf.assign(others,tf.concat([others,tf.Variable([11,22],name=\"add\")],0),validate_shape=False,name=\"changeShape\")"
   ]
  },
  {
   "cell_type": "code",
   "execution_count": 6,
   "metadata": {
    "collapsed": false
   },
   "outputs": [],
   "source": [
    "#set saver\n",
    "globalSaver = tf.train.Saver()\n",
    "embedSaver = tf.train.Saver({\"userEmbedding\":userEmbedding})"
   ]
  },
  {
   "cell_type": "code",
   "execution_count": 31,
   "metadata": {
    "collapsed": false
   },
   "outputs": [
    {
     "name": "stdout",
     "output_type": "stream",
     "text": [
      "INFO:tensorflow:Restoring parameters from test/model.ckpt\n",
      "INFO:tensorflow:Restoring parameters from test/embed2.ckpt\n",
      "['userEmbedding:0', 'others:0', 'add:0']\n",
      "[2] [ 1  2 11 22 11 22 11 22 11 22 11 22 11 22 11 22 11 22 11 22 11 22 11 22 11\n",
      " 22 11 22 11 22 11 22 11 22 11 22 11 22 11 22 11 22 11 22 11 22 11 22 11 22\n",
      " 11 22]\n"
     ]
    }
   ],
   "source": [
    "with tf.Session() as sess:\n",
    "    \n",
    "    try:\n",
    "        globalSaver.restore(sess,\"test/model.ckpt\")\n",
    "    except:\n",
    "        print(\"graph not initiation,initial it\")\n",
    "        \n",
    "        sess.run(tf.global_variables_initializer())\n",
    "        sess.run(changeShape)\n",
    "    try:\n",
    "        embedSaver.restore(sess,\"test/embed%d.ckpt\"%ii)\n",
    "        sess.run(changeShape)\n",
    "        print([i.name for i in tf.get_collection(tf.GraphKeys.GLOBAL_VARIABLES)])\n",
    "    except:\n",
    "        print(\"bucket user embedding not exsit, initial it\")\n",
    "    #sess.run(tf.global_variables_initializer())\n",
    "    globalSaver.save(sess,\"test/model.ckpt\")\n",
    "    embedSaver.save(sess,\"test/embed%d.ckpt\"%ii)         \n",
    "    print(userEmbedding.eval(),others.eval())\n",
    "        "
   ]
  },
  {
   "cell_type": "code",
   "execution_count": null,
   "metadata": {
    "collapsed": true
   },
   "outputs": [],
   "source": []
  },
  {
   "cell_type": "code",
   "execution_count": null,
   "metadata": {
    "collapsed": true
   },
   "outputs": [],
   "source": []
  }
 ],
 "metadata": {
  "anaconda-cloud": {},
  "kernelspec": {
   "display_name": "Python 3",
   "language": "python",
   "name": "python3"
  },
  "language_info": {
   "codemirror_mode": {
    "name": "ipython",
    "version": 3
   },
   "file_extension": ".py",
   "mimetype": "text/x-python",
   "name": "python",
   "nbconvert_exporter": "python",
   "pygments_lexer": "ipython3",
   "version": "3.6.0"
  }
 },
 "nbformat": 4,
 "nbformat_minor": 0
}
