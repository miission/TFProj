{
 "cells": [
  {
   "cell_type": "code",
   "execution_count": 1,
   "metadata": {
    "collapsed": true
   },
   "outputs": [],
   "source": [
    "import tensorflow as tf"
   ]
  },
  {
   "cell_type": "code",
   "execution_count": 2,
   "metadata": {
    "collapsed": false
   },
   "outputs": [],
   "source": [
    "#build graph\n",
    "#userEmbedding = tf.Variable([1],name=\"userEmbedding\")\n",
    "others = tf.Variable([11,1,22],name=\"others\",validate_shape=False)"
   ]
  },
  {
   "cell_type": "code",
   "execution_count": 3,
   "metadata": {
    "collapsed": false
   },
   "outputs": [],
   "source": [
    "#set saver\n",
    "globalSaver = tf.train.Saver()\n",
    "#embedSaver = tf.train.Saver({\"userEmbedding\":userEmbedding})"
   ]
  },
  {
   "cell_type": "code",
   "execution_count": 4,
   "metadata": {
    "collapsed": false
   },
   "outputs": [
    {
     "name": "stdout",
     "output_type": "stream",
     "text": [
      "['others:0']\n",
      "INFO:tensorflow:Restoring parameters from test/model.ckpt\n",
      "[ 1  2 11 22 11 22 11 22 11 22 11 22 11 22 11 22 11 22 11 22 11 22 11 22 11\n",
      " 22 11 22 11 22 11 22 11 22 11 22 11 22 11 22 11 22 11 22 11 22 11 22 11 22\n",
      " 11 22]\n"
     ]
    }
   ],
   "source": [
    "with tf.Session() as sess:\n",
    "    #sess.run(tf.global_variables_initializer())\n",
    "   # print(userEmbedding.eval(),others.eval())\n",
    "    #reload\n",
    "    print([i.name for i in tf.get_collection(tf.GraphKeys.GLOBAL_VARIABLES)])\n",
    "    globalSaver.restore(sess,\"test/model.ckpt\")\n",
    "    #globalSaver.save(sess,\"test/model.ckpt\")\n",
    "    #embedSaver.restore(sess,\"test/embed1.ckpt\")\n",
    "    print(userEmbedding.eval(),others.eval())\n",
    "    "
   ]
  },
  {
   "cell_type": "code",
   "execution_count": null,
   "metadata": {
    "collapsed": true
   },
   "outputs": [],
   "source": []
  }
 ],
 "metadata": {
  "kernelspec": {
   "display_name": "Python 3",
   "language": "python",
   "name": "python3"
  },
  "language_info": {
   "codemirror_mode": {
    "name": "ipython",
    "version": 3
   },
   "file_extension": ".py",
   "mimetype": "text/x-python",
   "name": "python",
   "nbconvert_exporter": "python",
   "pygments_lexer": "ipython3",
   "version": "3.6.0"
  }
 },
 "nbformat": 4,
 "nbformat_minor": 0
}
